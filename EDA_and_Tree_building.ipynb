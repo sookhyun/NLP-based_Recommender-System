{
 "cells": [
  {
   "cell_type": "markdown",
   "id": "d1fd0a3d-c21e-4958-85bc-bcf626556528",
   "metadata": {},
   "source": [
    "# Exploratory data analysis & Tree building<a id='Exploratory_Data_Analysis'></a>"
   ]
  },
  {
   "cell_type": "markdown",
   "id": "d4cb73d6-3857-41eb-acf4-5744294a0492",
   "metadata": {},
   "source": [
    "## Table of Contents\n",
    "  * 1 [Import libriaries and Load data](#load_data)\n",
    "  * 2 [Event data](#event_data)\n",
    "    * 2.1 [Customer behavior](#customer_behavior)\n",
    "      * 2.1.1 [Number of unique items purchased per customer](#items_per_customer)\n",
    "      * 2.1.2 [Total number of purchase days per customer](#days_per_customer) \n",
    "    * 2.2 [Pre-basker analysis](#basket_analysis)\n",
    "      * 2.2.1 [Number of unique items purchased per session](#items_per_session)\n",
    "      * 2.2.2 [Fraction of transaction events per session](#transactions_per_session)\n",
    "  * 3 [Tree building with category Data](#category_data)\n",
    "    * 3.1 [Huffman binary tree](#huffman_tree)\n",
    "      * 3.1.1 [Frequencies of items at leaf nodes](#frequency_item)\n",
    "      * 3.1.2 [Prepare dictionary with format {category : {item ID : frequency}}](#build_dictionary)\n",
    "      * 3.1.3 [Construct Huffman tree with items at leaf nodes](#build_huff_tree)\n",
    "      * 3.1.4 [Visualize Huffman tree](#visualize_huff_tree)\n",
    "    * 3.2 [Category tree](#category_tree)\n",
    "      * 3.2.1 [Convert category DataFrame into hierarchical tree structure](#convert_df_to_tree)\n",
    "      * 3.2.2 [Sanity check for linkage between items and categories](#sanity_check)\n",
    "      * 3.2.3 [Add leaf (item) nodes to tree](#add_leaf_nodes)\n",
    "      * 3.2.4 [Get full path to root](#get_full_path)"
   ]
  },
  {
   "cell_type": "markdown",
   "id": "6ff55ad0-58e9-4082-ba0d-6a844cd32aef",
   "metadata": {},
   "source": [
    "## 1 Import libraries and Load data<a id='load_data'></a>"
   ]
  },
  {
   "cell_type": "code",
   "execution_count": 1,
   "id": "3013f2e1-527e-4bee-9d2d-1ae32816c24e",
   "metadata": {},
   "outputs": [],
   "source": [
    "import pandas as pd\n",
    "import numpy as np\n",
    "import os\n",
    "import matplotlib.pyplot as plt\n",
    "import seaborn as sns\n",
    "\n",
    "#from sklearn.decomposition import PCA\n",
    "#from sklearn.preprocessing import scale\n",
    "pd.options.mode.copy_on_write = True\n",
    "from sb_utils import save_file\n",
    "_debug_ = False"
   ]
  },
  {
   "cell_type": "code",
   "execution_count": 2,
   "id": "b2712004-a1f8-4c5a-a516-c418bf001d93",
   "metadata": {},
   "outputs": [],
   "source": [
    "df_evt= pd.read_csv('events_df.csv')\n",
    "df_cat= pd.read_csv('category_df.csv')"
   ]
  },
  {
   "cell_type": "markdown",
   "id": "4e0d68cf-22c4-44d3-948a-336766cc7d88",
   "metadata": {},
   "source": [
    "## 2 Events data<a id='event_data'></a>"
   ]
  },
  {
   "cell_type": "code",
   "execution_count": 3,
   "id": "75911984-c415-4cde-a80f-ba41403cc44b",
   "metadata": {},
   "outputs": [
    {
     "data": {
      "text/html": [
       "<div>\n",
       "<style scoped>\n",
       "    .dataframe tbody tr th:only-of-type {\n",
       "        vertical-align: middle;\n",
       "    }\n",
       "\n",
       "    .dataframe tbody tr th {\n",
       "        vertical-align: top;\n",
       "    }\n",
       "\n",
       "    .dataframe thead th {\n",
       "        text-align: right;\n",
       "    }\n",
       "</style>\n",
       "<table border=\"1\" class=\"dataframe\">\n",
       "  <thead>\n",
       "    <tr style=\"text-align: right;\">\n",
       "      <th></th>\n",
       "      <th>visitorid</th>\n",
       "      <th>event</th>\n",
       "      <th>itemid</th>\n",
       "      <th>transactionid</th>\n",
       "      <th>date</th>\n",
       "      <th>session_by_day</th>\n",
       "      <th>categoryid</th>\n",
       "    </tr>\n",
       "  </thead>\n",
       "  <tbody>\n",
       "    <tr>\n",
       "      <th>0</th>\n",
       "      <td>0</td>\n",
       "      <td>view</td>\n",
       "      <td>285930</td>\n",
       "      <td>-1</td>\n",
       "      <td>2015-09-11</td>\n",
       "      <td>1</td>\n",
       "      <td>1188</td>\n",
       "    </tr>\n",
       "    <tr>\n",
       "      <th>1</th>\n",
       "      <td>0</td>\n",
       "      <td>view</td>\n",
       "      <td>357564</td>\n",
       "      <td>-1</td>\n",
       "      <td>2015-09-11</td>\n",
       "      <td>1</td>\n",
       "      <td>256</td>\n",
       "    </tr>\n",
       "    <tr>\n",
       "      <th>2</th>\n",
       "      <td>0</td>\n",
       "      <td>view</td>\n",
       "      <td>67045</td>\n",
       "      <td>-1</td>\n",
       "      <td>2015-09-11</td>\n",
       "      <td>1</td>\n",
       "      <td>333</td>\n",
       "    </tr>\n",
       "    <tr>\n",
       "      <th>3</th>\n",
       "      <td>1</td>\n",
       "      <td>view</td>\n",
       "      <td>72028</td>\n",
       "      <td>-1</td>\n",
       "      <td>2015-08-13</td>\n",
       "      <td>1</td>\n",
       "      <td>1192</td>\n",
       "    </tr>\n",
       "    <tr>\n",
       "      <th>4</th>\n",
       "      <td>2</td>\n",
       "      <td>view</td>\n",
       "      <td>342816</td>\n",
       "      <td>-1</td>\n",
       "      <td>2015-08-07</td>\n",
       "      <td>1</td>\n",
       "      <td>444</td>\n",
       "    </tr>\n",
       "  </tbody>\n",
       "</table>\n",
       "</div>"
      ],
      "text/plain": [
       "   visitorid event  itemid  transactionid        date  session_by_day  \\\n",
       "0          0  view  285930             -1  2015-09-11               1   \n",
       "1          0  view  357564             -1  2015-09-11               1   \n",
       "2          0  view   67045             -1  2015-09-11               1   \n",
       "3          1  view   72028             -1  2015-08-13               1   \n",
       "4          2  view  342816             -1  2015-08-07               1   \n",
       "\n",
       "   categoryid  \n",
       "0        1188  \n",
       "1         256  \n",
       "2         333  \n",
       "3        1192  \n",
       "4         444  "
      ]
     },
     "execution_count": 3,
     "metadata": {},
     "output_type": "execute_result"
    }
   ],
   "source": [
    "df_evt.head()"
   ]
  },
  {
   "cell_type": "markdown",
   "id": "326e249b-525c-48d3-93bb-161cff760555",
   "metadata": {},
   "source": [
    "### 2.1 Customer behavior<a id='customer_behavior'></a>"
   ]
  },
  {
   "cell_type": "markdown",
   "id": "dfbc6c24-6f25-44e2-a0ff-1561f88f19ad",
   "metadata": {},
   "source": [
    "#### 2.1.1 Number of unique items purchased per customer<a id='items_per_customer'></a>"
   ]
  },
  {
   "cell_type": "code",
   "execution_count": 4,
   "id": "5894ccbe-5484-43c0-af38-39996c106dec",
   "metadata": {},
   "outputs": [
    {
     "data": {
      "text/plain": [
       "Text(0.5, 1.0, 'Number of unique items purchased per customer')"
      ]
     },
     "execution_count": 4,
     "metadata": {},
     "output_type": "execute_result"
    },
    {
     "data": {
      "image/png": "[encoded data removed]",
      "text/plain": [
       "<Figure size 1000x300 with 1 Axes>"
      ]
     },
     "metadata": {},
     "output_type": "display_data"
    }
   ],
   "source": [
    "df_trs = df_evt[df_evt['event'] == 'transaction']\n",
    "\n",
    "items_per_customer = df_trs.groupby('visitorid').agg(freq = pd.NamedAgg(column='itemid', aggfunc='nunique')).reset_index()\n",
    "plt.figure(figsize=(10,3))\n",
    "items_per_customer.freq.hist(bins=500)\n",
    "plt.xlabel('Number of unique items')\n",
    "plt.ylabel('Customer counts')\n",
    "plt.yscale('log')\n",
    "plt.title('Number of unique items purchased per customer')"
   ]
  },
  {
   "cell_type": "code",
   "execution_count": 5,
   "id": "d151600a-9a06-42a3-99bc-2e6297c6d540",
   "metadata": {},
   "outputs": [
    {
     "data": {
      "text/html": [
       "<div>\n",
       "<style scoped>\n",
       "    .dataframe tbody tr th:only-of-type {\n",
       "        vertical-align: middle;\n",
       "    }\n",
       "\n",
       "    .dataframe tbody tr th {\n",
       "        vertical-align: top;\n",
       "    }\n",
       "\n",
       "    .dataframe thead th {\n",
       "        text-align: right;\n",
       "    }\n",
       "</style>\n",
       "<table border=\"1\" class=\"dataframe\">\n",
       "  <thead>\n",
       "    <tr style=\"text-align: right;\">\n",
       "      <th></th>\n",
       "      <th>visitorid</th>\n",
       "      <th>freq</th>\n",
       "    </tr>\n",
       "  </thead>\n",
       "  <tbody>\n",
       "    <tr>\n",
       "      <th>9541</th>\n",
       "      <td>1150086</td>\n",
       "      <td>532</td>\n",
       "    </tr>\n",
       "  </tbody>\n",
       "</table>\n",
       "</div>"
      ],
      "text/plain": [
       "      visitorid  freq\n",
       "9541    1150086   532"
      ]
     },
     "execution_count": 5,
     "metadata": {},
     "output_type": "execute_result"
    }
   ],
   "source": [
    "# top buyer who purchased 532 items on 74 days between 2015-05-10 and 2015-09-13\n",
    "items_per_customer[items_per_customer.freq>400]"
   ]
  },
  {
   "cell_type": "code",
   "execution_count": 6,
   "id": "69528e29-8b74-40ba-9bac-22bb2d2c6f9b",
   "metadata": {},
   "outputs": [
    {
     "data": {
      "text/html": [
       "<div>\n",
       "<style scoped>\n",
       "    .dataframe tbody tr th:only-of-type {\n",
       "        vertical-align: middle;\n",
       "    }\n",
       "\n",
       "    .dataframe tbody tr th {\n",
       "        vertical-align: top;\n",
       "    }\n",
       "\n",
       "    .dataframe thead th {\n",
       "        text-align: right;\n",
       "    }\n",
       "</style>\n",
       "<table border=\"1\" class=\"dataframe\">\n",
       "  <thead>\n",
       "    <tr style=\"text-align: right;\">\n",
       "      <th></th>\n",
       "      <th>visitorid</th>\n",
       "      <th>event</th>\n",
       "      <th>itemid</th>\n",
       "      <th>transactionid</th>\n",
       "      <th>date</th>\n",
       "      <th>session_by_day</th>\n",
       "      <th>categoryid</th>\n",
       "    </tr>\n",
       "  </thead>\n",
       "  <tbody>\n",
       "    <tr>\n",
       "      <th>2258482</th>\n",
       "      <td>1150086</td>\n",
       "      <td>transaction</td>\n",
       "      <td>276704</td>\n",
       "      <td>4070</td>\n",
       "      <td>2015-06-11</td>\n",
       "      <td>1</td>\n",
       "      <td>1219</td>\n",
       "    </tr>\n",
       "    <tr>\n",
       "      <th>2262073</th>\n",
       "      <td>1150086</td>\n",
       "      <td>transaction</td>\n",
       "      <td>440066</td>\n",
       "      <td>15225</td>\n",
       "      <td>2015-06-11</td>\n",
       "      <td>1</td>\n",
       "      <td>646</td>\n",
       "    </tr>\n",
       "    <tr>\n",
       "      <th>2259398</th>\n",
       "      <td>1150086</td>\n",
       "      <td>transaction</td>\n",
       "      <td>375955</td>\n",
       "      <td>6495</td>\n",
       "      <td>2015-06-11</td>\n",
       "      <td>1</td>\n",
       "      <td>624</td>\n",
       "    </tr>\n",
       "    <tr>\n",
       "      <th>2262120</th>\n",
       "      <td>1150086</td>\n",
       "      <td>transaction</td>\n",
       "      <td>357133</td>\n",
       "      <td>5235</td>\n",
       "      <td>2015-06-11</td>\n",
       "      <td>1</td>\n",
       "      <td>637</td>\n",
       "    </tr>\n",
       "    <tr>\n",
       "      <th>2258643</th>\n",
       "      <td>1150086</td>\n",
       "      <td>transaction</td>\n",
       "      <td>310620</td>\n",
       "      <td>4070</td>\n",
       "      <td>2015-06-11</td>\n",
       "      <td>1</td>\n",
       "      <td>239</td>\n",
       "    </tr>\n",
       "    <tr>\n",
       "      <th>...</th>\n",
       "      <td>...</td>\n",
       "      <td>...</td>\n",
       "      <td>...</td>\n",
       "      <td>...</td>\n",
       "      <td>...</td>\n",
       "      <td>...</td>\n",
       "      <td>...</td>\n",
       "    </tr>\n",
       "    <tr>\n",
       "      <th>2261237</th>\n",
       "      <td>1150086</td>\n",
       "      <td>transaction</td>\n",
       "      <td>406727</td>\n",
       "      <td>17130</td>\n",
       "      <td>2015-09-16</td>\n",
       "      <td>73</td>\n",
       "      <td>725</td>\n",
       "    </tr>\n",
       "    <tr>\n",
       "      <th>2260107</th>\n",
       "      <td>1150086</td>\n",
       "      <td>transaction</td>\n",
       "      <td>340825</td>\n",
       "      <td>91</td>\n",
       "      <td>2015-09-16</td>\n",
       "      <td>73</td>\n",
       "      <td>34</td>\n",
       "    </tr>\n",
       "    <tr>\n",
       "      <th>2258611</th>\n",
       "      <td>1150086</td>\n",
       "      <td>transaction</td>\n",
       "      <td>99601</td>\n",
       "      <td>794</td>\n",
       "      <td>2015-09-16</td>\n",
       "      <td>73</td>\n",
       "      <td>1635</td>\n",
       "    </tr>\n",
       "    <tr>\n",
       "      <th>2260091</th>\n",
       "      <td>1150086</td>\n",
       "      <td>transaction</td>\n",
       "      <td>359910</td>\n",
       "      <td>8030</td>\n",
       "      <td>2015-09-16</td>\n",
       "      <td>73</td>\n",
       "      <td>227</td>\n",
       "    </tr>\n",
       "    <tr>\n",
       "      <th>2255179</th>\n",
       "      <td>1150086</td>\n",
       "      <td>transaction</td>\n",
       "      <td>399192</td>\n",
       "      <td>16231</td>\n",
       "      <td>2015-09-17</td>\n",
       "      <td>74</td>\n",
       "      <td>196</td>\n",
       "    </tr>\n",
       "  </tbody>\n",
       "</table>\n",
       "<p>559 rows × 7 columns</p>\n",
       "</div>"
      ],
      "text/plain": [
       "         visitorid        event  itemid  transactionid        date  \\\n",
       "2258482    1150086  transaction  276704           4070  2015-06-11   \n",
       "2262073    1150086  transaction  440066          15225  2015-06-11   \n",
       "2259398    1150086  transaction  375955           6495  2015-06-11   \n",
       "2262120    1150086  transaction  357133           5235  2015-06-11   \n",
       "2258643    1150086  transaction  310620           4070  2015-06-11   \n",
       "...            ...          ...     ...            ...         ...   \n",
       "2261237    1150086  transaction  406727          17130  2015-09-16   \n",
       "2260107    1150086  transaction  340825             91  2015-09-16   \n",
       "2258611    1150086  transaction   99601            794  2015-09-16   \n",
       "2260091    1150086  transaction  359910           8030  2015-09-16   \n",
       "2255179    1150086  transaction  399192          16231  2015-09-17   \n",
       "\n",
       "         session_by_day  categoryid  \n",
       "2258482               1        1219  \n",
       "2262073               1         646  \n",
       "2259398               1         624  \n",
       "2262120               1         637  \n",
       "2258643               1         239  \n",
       "...                 ...         ...  \n",
       "2261237              73         725  \n",
       "2260107              73          34  \n",
       "2258611              73        1635  \n",
       "2260091              73         227  \n",
       "2255179              74         196  \n",
       "\n",
       "[559 rows x 7 columns]"
      ]
     },
     "execution_count": 6,
     "metadata": {},
     "output_type": "execute_result"
    }
   ],
   "source": [
    "df_trs[df_trs.visitorid==1150086].sort_values('date')"
   ]
  },
  {
   "cell_type": "markdown",
   "id": "961b0dbd-d585-41a9-b9f1-27361e929f37",
   "metadata": {},
   "source": [
    "#### 2.1.2 Total number of purchase days per customer<a id='days_per_customer'></a>"
   ]
  },
  {
   "cell_type": "code",
   "execution_count": 7,
   "id": "629e9321-a6a1-4fd7-b732-ab2d8090fe4f",
   "metadata": {},
   "outputs": [
    {
     "data": {
      "text/plain": [
       "Text(0.5, 1.0, 'Total number of purchase days per customer')"
      ]
     },
     "execution_count": 7,
     "metadata": {},
     "output_type": "execute_result"
    },
    {
     "data": {
      "image/png": "[encoded data removed]",
      "text/plain": [
       "<Figure size 1000x300 with 1 Axes>"
      ]
     },
     "metadata": {},
     "output_type": "display_data"
    }
   ],
   "source": [
    "\n",
    "days_per_customer = df_trs.groupby('visitorid').agg(days = pd.NamedAgg(column='session_by_day', aggfunc='max')).reset_index()\n",
    "plt.figure(figsize=(10,3))\n",
    "days_per_customer.days.hist(bins=120)\n",
    "plt.xlabel('Purchase days')\n",
    "plt.ylabel('Customer counts')\n",
    "plt.yscale('log')\n",
    "plt.title('Total number of purchase days per customer')"
   ]
  },
  {
   "cell_type": "markdown",
   "id": "87be1fb8-c374-45c0-a60a-57de25160b34",
   "metadata": {},
   "source": [
    "### 2.2 Pre-basket analysis<a id='basket_analysis'></a>\n",
    "\n",
    "Useful information for when training a model with data."
   ]
  },
  {
   "cell_type": "markdown",
   "id": "7aba86ef-b21c-458d-ab2e-765ac5335f4a",
   "metadata": {},
   "source": [
    "#### 2.2.1 Number of unique items purchased per session<a id='items_per_session'></a>"
   ]
  },
  {
   "cell_type": "code",
   "execution_count": 8,
   "id": "f83f6e73-a814-4524-bc1f-003b4f90c867",
   "metadata": {},
   "outputs": [
    {
     "data": {
      "text/plain": [
       "Text(0.5, 1.0, 'Number of unique items purchased per session')"
      ]
     },
     "execution_count": 8,
     "metadata": {},
     "output_type": "execute_result"
    },
    {
     "data": {
      "image/png": "[encoded data removed]",
      "text/plain": [
       "<Figure size 1000x300 with 1 Axes>"
      ]
     },
     "metadata": {},
     "output_type": "display_data"
    }
   ],
   "source": [
    "items_per_session = df_trs.groupby(['visitorid','session_by_day']).agg(freq = pd.NamedAgg(column='itemid', aggfunc='nunique')).reset_index()\n",
    "plt.figure(figsize=(10,3))\n",
    "items_per_session.freq.hist(bins=np.linspace(0.5,35.5,35))\n",
    "plt.xlabel('Number of unique items')\n",
    "plt.ylabel('Frequency')\n",
    "plt.yscale('log')\n",
    "plt.title('Number of unique items purchased per session')"
   ]
  },
  {
   "cell_type": "markdown",
   "id": "d6f65f9d-2d0e-442c-b174-c1ab728a7dda",
   "metadata": {},
   "source": [
    "#### 2.2.2 Fraction of transaction events per session<a id='transactions_per_session'></a> "
   ]
  },
  {
   "cell_type": "code",
   "execution_count": 9,
   "id": "374a6ef4-5c81-486a-9696-d2299d951108",
   "metadata": {},
   "outputs": [],
   "source": [
    "\n",
    "def fraction(series):   \n",
    "    return series[series > 0].count()/series.count()\n",
    "\n",
    "\n",
    "transactions_per_session = df_evt.groupby(['visitorid','session_by_day'])\\\n",
    ".agg(frac=pd.NamedAgg(column='transactionid', aggfunc=fraction)).reset_index()\n"
   ]
  },
  {
   "cell_type": "code",
   "execution_count": 10,
   "id": "7697a7fd-ce2e-412d-b9b6-b6f21842eca2",
   "metadata": {},
   "outputs": [
    {
     "data": {
      "text/plain": [
       "Text(0.5, 1.0, 'Fraction of transaction events per session ')"
      ]
     },
     "execution_count": 10,
     "metadata": {},
     "output_type": "execute_result"
    },
    {
     "data": {
      "image/png": "[encoded data removed]",
      "text/plain": [
       "<Figure size 1000x300 with 1 Axes>"
      ]
     },
     "metadata": {},
     "output_type": "display_data"
    }
   ],
   "source": [
    "plt.figure(figsize=(10,3))\n",
    "transactions_per_session.frac.hist(bins=200)\n",
    "plt.xlabel('Fraction')\n",
    "plt.ylabel('Counts')\n",
    "plt.yscale('log')\n",
    "plt.title('Fraction of transaction events per session ')"
   ]
  },
  {
   "cell_type": "markdown",
   "id": "463a8af4-630e-4a9a-ade1-f2aac6185314",
   "metadata": {},
   "source": [
    "## 3 Tree building with category data<a id='category_data'></a>"
   ]
  },
  {
   "cell_type": "markdown",
   "id": "a8f46181-e396-41c2-ac27-febe6bfd3b41",
   "metadata": {},
   "source": [
    "#### There ere are two different types of trees we will be building:\n",
    "  * Huffman binary tree for hierarchical softmax\n",
    "  * Category tree for accessing category information associated with each item"
   ]
  },
  {
   "cell_type": "markdown",
   "id": "b1624c05-771d-40b0-a056-aea230af8980",
   "metadata": {},
   "source": [
    "### 3.1 Huffman binary tree<a id='huffman_tree'></a>"
   ]
  },
  {
   "cell_type": "markdown",
   "id": "d7ca228c-47b1-4448-bc29-2e9f38cb3b5a",
   "metadata": {},
   "source": [
    "Huffman tree is a binary tree over items that is used for efficient probability estimation in hierarchical softmax training technique. It speeds up training and allows for scalable output layer."
   ]
  },
  {
   "cell_type": "code",
   "execution_count": 11,
   "id": "5739227e-e939-4f9a-b68f-43c3696c1463",
   "metadata": {},
   "outputs": [],
   "source": [
    "from HuffmanTree import HuffmanNode,build_huffman_tree,generate_codebook,visualize_huffman_tree"
   ]
  },
  {
   "cell_type": "markdown",
   "id": "f1d09fee-6016-44ff-b80d-59ff601433e2",
   "metadata": {},
   "source": [
    "#### 3.1.1 Frequencies of items at leaf nodes<a id='frequency_item'></a> "
   ]
  },
  {
   "cell_type": "code",
   "execution_count": 12,
   "id": "5054c9dc-6f25-478f-a3a5-087729364025",
   "metadata": {},
   "outputs": [
    {
     "data": {
      "text/plain": [
       "Text(0.5, 1.0, 'Purchase frequency per item')"
      ]
     },
     "execution_count": 12,
     "metadata": {},
     "output_type": "execute_result"
    },
    {
     "data": {
      "image/png": "[encoded data removed]",
      "text/plain": [
       "<Figure size 1000x300 with 1 Axes>"
      ]
     },
     "metadata": {},
     "output_type": "display_data"
    }
   ],
   "source": [
    "\n",
    "df_trs = df_evt[df_evt['event'] == 'transaction']\n",
    "df_freq = df_trs.groupby('itemid').agg(frequency = pd.NamedAgg(column='itemid', aggfunc='size'),\n",
    "                                      categoryid = pd.NamedAgg(column='categoryid',aggfunc= 'first')).reset_index()\n",
    "plt.figure(figsize=[10,3])\n",
    "df_freq.frequency.hist(bins=120)\n",
    "plt.xlabel('Frequency')\n",
    "plt.ylabel('Item counts')\n",
    "plt.yscale('log')\n",
    "plt.title('Purchase frequency per item')"
   ]
  },
  {
   "cell_type": "markdown",
   "id": "1fa2ee22-9ac8-48ae-9cb0-4c3c71288ff8",
   "metadata": {},
   "source": [
    "#### 3.1.2 Prepare dictionary with format {category : {item ID : frequency}}<a id='build_dictionary'></a> "
   ]
  },
  {
   "cell_type": "markdown",
   "id": "56627f56-1497-4522-9126-2510694e5f99",
   "metadata": {},
   "source": [
    "This will be used to extend the tree to include categories directly associated with items."
   ]
  },
  {
   "cell_type": "code",
   "execution_count": 13,
   "id": "9944e794-aef8-46f6-9e2a-2bf833c60d09",
   "metadata": {},
   "outputs": [
    {
     "data": {
      "text/html": [
       "<div>\n",
       "<style scoped>\n",
       "    .dataframe tbody tr th:only-of-type {\n",
       "        vertical-align: middle;\n",
       "    }\n",
       "\n",
       "    .dataframe tbody tr th {\n",
       "        vertical-align: top;\n",
       "    }\n",
       "\n",
       "    .dataframe thead th {\n",
       "        text-align: right;\n",
       "    }\n",
       "</style>\n",
       "<table border=\"1\" class=\"dataframe\">\n",
       "  <thead>\n",
       "    <tr style=\"text-align: right;\">\n",
       "      <th></th>\n",
       "      <th>itemid</th>\n",
       "      <th>frequency</th>\n",
       "      <th>categoryid</th>\n",
       "    </tr>\n",
       "  </thead>\n",
       "  <tbody>\n",
       "    <tr>\n",
       "      <th>0</th>\n",
       "      <td>15</td>\n",
       "      <td>1</td>\n",
       "      <td>722</td>\n",
       "    </tr>\n",
       "    <tr>\n",
       "      <th>1</th>\n",
       "      <td>19</td>\n",
       "      <td>1</td>\n",
       "      <td>1171</td>\n",
       "    </tr>\n",
       "    <tr>\n",
       "      <th>2</th>\n",
       "      <td>25</td>\n",
       "      <td>2</td>\n",
       "      <td>1509</td>\n",
       "    </tr>\n",
       "    <tr>\n",
       "      <th>3</th>\n",
       "      <td>42</td>\n",
       "      <td>1</td>\n",
       "      <td>84</td>\n",
       "    </tr>\n",
       "    <tr>\n",
       "      <th>4</th>\n",
       "      <td>147</td>\n",
       "      <td>4</td>\n",
       "      <td>646</td>\n",
       "    </tr>\n",
       "  </tbody>\n",
       "</table>\n",
       "</div>"
      ],
      "text/plain": [
       "   itemid  frequency  categoryid\n",
       "0      15          1         722\n",
       "1      19          1        1171\n",
       "2      25          2        1509\n",
       "3      42          1          84\n",
       "4     147          4         646"
      ]
     },
     "execution_count": 13,
     "metadata": {},
     "output_type": "execute_result"
    }
   ],
   "source": [
    "df_freq.head()"
   ]
  },
  {
   "cell_type": "code",
   "execution_count": 14,
   "id": "f77c7b54-0a17-4e0e-a8fd-bf8efcc130ba",
   "metadata": {},
   "outputs": [
    {
     "name": "stdout",
     "output_type": "stream",
     "text": [
      "Category: 0\n",
      "{50722: 1, 101156: 2, 124055: 1, 132853: 1, 175322: 1, 220950: 1, 256952: 1, 261013: 1, 283492: 2, 289006: 1}\n"
     ]
    }
   ],
   "source": [
    "dict_items = {}\n",
    "\n",
    "for category, item in df_freq.groupby('categoryid'):\n",
    "    if category <0:\n",
    "        continue\n",
    "    d = dict(zip(item['itemid'], item['frequency']))\n",
    "    dict_items[category] = d\n",
    "    \n",
    "    if category == 0:\n",
    "        print(f\"Category: {category}\")\n",
    "        print(d)\n",
    "    "
   ]
  },
  {
   "cell_type": "markdown",
   "id": "6fb23c68-11e6-471e-881f-323ddc8e96fb",
   "metadata": {},
   "source": [
    "#### 3.1.3 Construct Huffman tree with items at leaf nodes<a id='build_huff_tree'></a>"
   ]
  },
  {
   "cell_type": "code",
   "execution_count": 15,
   "id": "fd97f7d1-ad55-4f97-bb76-788a50c618c4",
   "metadata": {},
   "outputs": [
    {
     "name": "stdout",
     "output_type": "stream",
     "text": [
      "{50722: 1, 101156: 2, 124055: 1, 132853: 1, 175322: 1}\n",
      "Total number of inner nodes : 11644\n"
     ]
    }
   ],
   "source": [
    "\n",
    "begin_index = 500000\n",
    "dict_combined = {}\n",
    "\n",
    "for category, itemsdict in dict_items.items():\n",
    "    dict_combined.update(itemsdict)\n",
    "\n",
    "test = dict(list(dict_combined.items())[:5])\n",
    "print(test) \n",
    "total_inner_nodes, tree = build_huffman_tree(begin_index, None, dict_combined, None)\n",
    "\n",
    "print(f'Total number of inner nodes : {total_inner_nodes}')"
   ]
  },
  {
   "cell_type": "markdown",
   "id": "a51aaf52-0957-4374-98d4-4f91135690ef",
   "metadata": {},
   "source": [
    "#### 3.1.4 Visualize Huffman tree<a id='visualize_huff_tree'></a>"
   ]
  },
  {
   "cell_type": "code",
   "execution_count": 16,
   "id": "c24baeb8-bdbd-4b66-a023-830a38adcd9e",
   "metadata": {},
   "outputs": [
    {
     "name": "stdout",
     "output_type": "stream",
     "text": [
      "Total number of inner nodes (including root node) for category 0 : 9 \n"
     ]
    },
    {
     "data": {
      "image/svg+xml": [
       "<?xml version=\"1.0\" encoding=\"UTF-8\" standalone=\"no\"?>\n",
       "<!DOCTYPE svg PUBLIC \"-//W3C//DTD SVG 1.1//EN\"\n",
       " \"http://www.w3.org/Graphics/SVG/1.1/DTD/svg11.dtd\">\n",
       "<!-- Generated by graphviz version 12.2.1 (0)\n",
       " -->\n",
       "<!-- Pages: 1 -->\n",
       "<svg width=\"971pt\" height=\"398pt\"\n",
       " viewBox=\"0.00 0.00 971.44 398.00\" xmlns=\"http://www.w3.org/2000/svg\" xmlns:xlink=\"http://www.w3.org/1999/xlink\">\n",
       "<g id=\"graph0\" class=\"graph\" transform=\"scale(1 1) rotate(0) translate(4 394)\">\n",
       "<polygon fill=\"white\" stroke=\"none\" points=\"-4,4 -4,-394 967.44,-394 967.44,4 -4,4\"/>\n",
       "<!-- 500006 -->\n",
       "<g id=\"node1\" class=\"node\">\n",
       "<title>500006</title>\n",
       "<ellipse fill=\"none\" stroke=\"black\" cx=\"286.72\" cy=\"-283.5\" rx=\"45.72\" ry=\"18\"/>\n",
       "<text text-anchor=\"middle\" x=\"286.72\" y=\"-278.45\" font-family=\"Times,serif\" font-size=\"14.00\">500006:4</text>\n",
       "</g>\n",
       "<!-- 500002 -->\n",
       "<g id=\"node3\" class=\"node\">\n",
       "<title>500002</title>\n",
       "<ellipse fill=\"none\" stroke=\"black\" cx=\"154.72\" cy=\"-195\" rx=\"45.72\" ry=\"18\"/>\n",
       "<text text-anchor=\"middle\" x=\"154.72\" y=\"-189.95\" font-family=\"Times,serif\" font-size=\"14.00\">500002:2</text>\n",
       "</g>\n",
       "<!-- 500006&#45;&gt;500002 -->\n",
       "<g id=\"edge2\" class=\"edge\">\n",
       "<title>500006&#45;&gt;500002</title>\n",
       "<path fill=\"none\" stroke=\"black\" d=\"M264.03,-267.63C242.78,-253.7 210.81,-232.75 186.92,-217.1\"/>\n",
       "<polygon fill=\"black\" stroke=\"black\" points=\"189.11,-214.35 178.82,-211.79 185.27,-220.2 189.11,-214.35\"/>\n",
       "<text text-anchor=\"middle\" x=\"235.92\" y=\"-234.2\" font-family=\"Times,serif\" font-size=\"14.00\">0</text>\n",
       "</g>\n",
       "<!-- 500003 -->\n",
       "<g id=\"node6\" class=\"node\">\n",
       "<title>500003</title>\n",
       "<ellipse fill=\"none\" stroke=\"black\" cx=\"286.72\" cy=\"-195\" rx=\"45.72\" ry=\"18\"/>\n",
       "<text text-anchor=\"middle\" x=\"286.72\" y=\"-189.95\" font-family=\"Times,serif\" font-size=\"14.00\">500003:2</text>\n",
       "</g>\n",
       "<!-- 500006&#45;&gt;500003 -->\n",
       "<g id=\"edge5\" class=\"edge\">\n",
       "<title>500006&#45;&gt;500003</title>\n",
       "<path fill=\"none\" stroke=\"black\" d=\"M286.72,-265.41C286.72,-253.76 286.72,-238.05 286.72,-224.52\"/>\n",
       "<polygon fill=\"black\" stroke=\"black\" points=\"290.22,-224.86 286.72,-214.86 283.22,-224.86 290.22,-224.86\"/>\n",
       "<text text-anchor=\"middle\" x=\"290.1\" y=\"-234.2\" font-family=\"Times,serif\" font-size=\"14.00\">1</text>\n",
       "</g>\n",
       "<!-- 0 -->\n",
       "<g id=\"node2\" class=\"node\">\n",
       "<title>0</title>\n",
       "<ellipse fill=\"none\" stroke=\"black\" cx=\"395.72\" cy=\"-372\" rx=\"27\" ry=\"18\"/>\n",
       "<text text-anchor=\"middle\" x=\"395.72\" y=\"-366.95\" font-family=\"Times,serif\" font-size=\"14.00\">0</text>\n",
       "</g>\n",
       "<!-- 0&#45;&gt;500006 -->\n",
       "<g id=\"edge1\" class=\"edge\">\n",
       "<title>0&#45;&gt;500006</title>\n",
       "<path fill=\"none\" stroke=\"black\" d=\"M378.69,-357.48C361.66,-343.97 335.17,-322.95 314.98,-306.93\"/>\n",
       "<polygon fill=\"black\" stroke=\"black\" points=\"317.4,-304.38 307.39,-300.91 313.05,-309.86 317.4,-304.38\"/>\n",
       "<text text-anchor=\"middle\" x=\"354.36\" y=\"-322.7\" font-family=\"Times,serif\" font-size=\"14.00\">0</text>\n",
       "</g>\n",
       "<!-- 500007 -->\n",
       "<g id=\"node9\" class=\"node\">\n",
       "<title>500007</title>\n",
       "<ellipse fill=\"none\" stroke=\"black\" cx=\"528.72\" cy=\"-283.5\" rx=\"45.72\" ry=\"18\"/>\n",
       "<text text-anchor=\"middle\" x=\"528.72\" y=\"-278.45\" font-family=\"Times,serif\" font-size=\"14.00\">500007:8</text>\n",
       "</g>\n",
       "<!-- 0&#45;&gt;500007 -->\n",
       "<g id=\"edge8\" class=\"edge\">\n",
       "<title>0&#45;&gt;500007</title>\n",
       "<path fill=\"none\" stroke=\"black\" d=\"M414.5,-358.79C435.83,-344.92 471.01,-322.03 496.7,-305.32\"/>\n",
       "<polygon fill=\"black\" stroke=\"black\" points=\"498.29,-308.46 504.77,-300.08 494.48,-302.6 498.29,-308.46\"/>\n",
       "<text text-anchor=\"middle\" x=\"477.51\" y=\"-322.7\" font-family=\"Times,serif\" font-size=\"14.00\">1</text>\n",
       "</g>\n",
       "<!-- 220950 -->\n",
       "<g id=\"node4\" class=\"node\">\n",
       "<title>220950</title>\n",
       "<ellipse fill=\"none\" stroke=\"black\" cx=\"45.72\" cy=\"-106.5\" rx=\"45.72\" ry=\"18\"/>\n",
       "<text text-anchor=\"middle\" x=\"45.72\" y=\"-101.45\" font-family=\"Times,serif\" font-size=\"14.00\">220950:1</text>\n",
       "</g>\n",
       "<!-- 500002&#45;&gt;220950 -->\n",
       "<g id=\"edge3\" class=\"edge\">\n",
       "<title>500002&#45;&gt;220950</title>\n",
       "<path fill=\"none\" stroke=\"black\" d=\"M134.98,-178.34C118.01,-164.86 93.31,-145.26 74.19,-130.09\"/>\n",
       "<polygon fill=\"black\" stroke=\"black\" points=\"76.51,-127.46 66.5,-123.99 72.16,-132.95 76.51,-127.46\"/>\n",
       "<text text-anchor=\"middle\" x=\"113.36\" y=\"-145.7\" font-family=\"Times,serif\" font-size=\"14.00\">0</text>\n",
       "</g>\n",
       "<!-- 256952 -->\n",
       "<g id=\"node5\" class=\"node\">\n",
       "<title>256952</title>\n",
       "<ellipse fill=\"none\" stroke=\"black\" cx=\"154.72\" cy=\"-106.5\" rx=\"45.72\" ry=\"18\"/>\n",
       "<text text-anchor=\"middle\" x=\"154.72\" y=\"-101.45\" font-family=\"Times,serif\" font-size=\"14.00\">256952:1</text>\n",
       "</g>\n",
       "<!-- 500002&#45;&gt;256952 -->\n",
       "<g id=\"edge4\" class=\"edge\">\n",
       "<title>500002&#45;&gt;256952</title>\n",
       "<path fill=\"none\" stroke=\"black\" d=\"M154.72,-176.91C154.72,-165.26 154.72,-149.55 154.72,-136.02\"/>\n",
       "<polygon fill=\"black\" stroke=\"black\" points=\"158.22,-136.36 154.72,-126.36 151.22,-136.36 158.22,-136.36\"/>\n",
       "<text text-anchor=\"middle\" x=\"158.1\" y=\"-145.7\" font-family=\"Times,serif\" font-size=\"14.00\">1</text>\n",
       "</g>\n",
       "<!-- 261013 -->\n",
       "<g id=\"node7\" class=\"node\">\n",
       "<title>261013</title>\n",
       "<ellipse fill=\"none\" stroke=\"black\" cx=\"263.72\" cy=\"-106.5\" rx=\"45.72\" ry=\"18\"/>\n",
       "<text text-anchor=\"middle\" x=\"263.72\" y=\"-101.45\" font-family=\"Times,serif\" font-size=\"14.00\">261013:1</text>\n",
       "</g>\n",
       "<!-- 500003&#45;&gt;261013 -->\n",
       "<g id=\"edge6\" class=\"edge\">\n",
       "<title>500003&#45;&gt;261013</title>\n",
       "<path fill=\"none\" stroke=\"black\" d=\"M282.18,-176.91C279.05,-165.14 274.82,-149.23 271.2,-135.61\"/>\n",
       "<polygon fill=\"black\" stroke=\"black\" points=\"274.68,-135.08 268.72,-126.31 267.91,-136.88 274.68,-135.08\"/>\n",
       "<text text-anchor=\"middle\" x=\"280.66\" y=\"-145.7\" font-family=\"Times,serif\" font-size=\"14.00\">0</text>\n",
       "</g>\n",
       "<!-- 289006 -->\n",
       "<g id=\"node8\" class=\"node\">\n",
       "<title>289006</title>\n",
       "<ellipse fill=\"none\" stroke=\"black\" cx=\"372.72\" cy=\"-106.5\" rx=\"45.72\" ry=\"18\"/>\n",
       "<text text-anchor=\"middle\" x=\"372.72\" y=\"-101.45\" font-family=\"Times,serif\" font-size=\"14.00\">289006:1</text>\n",
       "</g>\n",
       "<!-- 500003&#45;&gt;289006 -->\n",
       "<g id=\"edge7\" class=\"edge\">\n",
       "<title>500003&#45;&gt;289006</title>\n",
       "<path fill=\"none\" stroke=\"black\" d=\"M302.9,-177.73C315.75,-164.8 333.93,-146.52 348.51,-131.85\"/>\n",
       "<polygon fill=\"black\" stroke=\"black\" points=\"350.98,-134.33 355.55,-124.77 346.02,-129.39 350.98,-134.33\"/>\n",
       "<text text-anchor=\"middle\" x=\"340.8\" y=\"-145.7\" font-family=\"Times,serif\" font-size=\"14.00\">1</text>\n",
       "</g>\n",
       "<!-- 500004 -->\n",
       "<g id=\"node10\" class=\"node\">\n",
       "<title>500004</title>\n",
       "<ellipse fill=\"none\" stroke=\"black\" cx=\"528.72\" cy=\"-195\" rx=\"45.72\" ry=\"18\"/>\n",
       "<text text-anchor=\"middle\" x=\"528.72\" y=\"-189.95\" font-family=\"Times,serif\" font-size=\"14.00\">500004:4</text>\n",
       "</g>\n",
       "<!-- 500007&#45;&gt;500004 -->\n",
       "<g id=\"edge9\" class=\"edge\">\n",
       "<title>500007&#45;&gt;500004</title>\n",
       "<path fill=\"none\" stroke=\"black\" d=\"M528.72,-265.41C528.72,-253.76 528.72,-238.05 528.72,-224.52\"/>\n",
       "<polygon fill=\"black\" stroke=\"black\" points=\"532.22,-224.86 528.72,-214.86 525.22,-224.86 532.22,-224.86\"/>\n",
       "<text text-anchor=\"middle\" x=\"532.1\" y=\"-234.2\" font-family=\"Times,serif\" font-size=\"14.00\">0</text>\n",
       "</g>\n",
       "<!-- 500005 -->\n",
       "<g id=\"node13\" class=\"node\">\n",
       "<title>500005</title>\n",
       "<ellipse fill=\"none\" stroke=\"black\" cx=\"699.72\" cy=\"-195\" rx=\"45.72\" ry=\"18\"/>\n",
       "<text text-anchor=\"middle\" x=\"699.72\" y=\"-189.95\" font-family=\"Times,serif\" font-size=\"14.00\">500005:4</text>\n",
       "</g>\n",
       "<!-- 500007&#45;&gt;500005 -->\n",
       "<g id=\"edge12\" class=\"edge\">\n",
       "<title>500007&#45;&gt;500005</title>\n",
       "<path fill=\"none\" stroke=\"black\" d=\"M555.82,-268.79C584.62,-254.22 630.38,-231.08 662.54,-214.81\"/>\n",
       "<polygon fill=\"black\" stroke=\"black\" points=\"663.78,-218.11 671.12,-210.47 660.62,-211.86 663.78,-218.11\"/>\n",
       "<text text-anchor=\"middle\" x=\"632.91\" y=\"-234.2\" font-family=\"Times,serif\" font-size=\"14.00\">1</text>\n",
       "</g>\n",
       "<!-- 101156 -->\n",
       "<g id=\"node11\" class=\"node\">\n",
       "<title>101156</title>\n",
       "<ellipse fill=\"none\" stroke=\"black\" cx=\"481.72\" cy=\"-106.5\" rx=\"45.72\" ry=\"18\"/>\n",
       "<text text-anchor=\"middle\" x=\"481.72\" y=\"-101.45\" font-family=\"Times,serif\" font-size=\"14.00\">101156:2</text>\n",
       "</g>\n",
       "<!-- 500004&#45;&gt;101156 -->\n",
       "<g id=\"edge10\" class=\"edge\">\n",
       "<title>500004&#45;&gt;101156</title>\n",
       "<path fill=\"none\" stroke=\"black\" d=\"M519.44,-176.91C512.87,-164.83 503.93,-148.38 496.41,-134.53\"/>\n",
       "<polygon fill=\"black\" stroke=\"black\" points=\"499.56,-133 491.71,-125.88 493.41,-136.34 499.56,-133\"/>\n",
       "<text text-anchor=\"middle\" x=\"512.81\" y=\"-145.7\" font-family=\"Times,serif\" font-size=\"14.00\">0</text>\n",
       "</g>\n",
       "<!-- 283492 -->\n",
       "<g id=\"node12\" class=\"node\">\n",
       "<title>283492</title>\n",
       "<ellipse fill=\"none\" stroke=\"black\" cx=\"590.72\" cy=\"-106.5\" rx=\"45.72\" ry=\"18\"/>\n",
       "<text text-anchor=\"middle\" x=\"590.72\" y=\"-101.45\" font-family=\"Times,serif\" font-size=\"14.00\">283492:2</text>\n",
       "</g>\n",
       "<!-- 500004&#45;&gt;283492 -->\n",
       "<g id=\"edge11\" class=\"edge\">\n",
       "<title>500004&#45;&gt;283492</title>\n",
       "<path fill=\"none\" stroke=\"black\" d=\"M540.68,-177.32C549.6,-164.88 561.95,-147.64 572.15,-133.41\"/>\n",
       "<polygon fill=\"black\" stroke=\"black\" points=\"574.94,-135.52 577.92,-125.36 569.25,-131.45 574.94,-135.52\"/>\n",
       "<text text-anchor=\"middle\" x=\"568.65\" y=\"-145.7\" font-family=\"Times,serif\" font-size=\"14.00\">1</text>\n",
       "</g>\n",
       "<!-- 500000 -->\n",
       "<g id=\"node14\" class=\"node\">\n",
       "<title>500000</title>\n",
       "<ellipse fill=\"none\" stroke=\"black\" cx=\"699.72\" cy=\"-106.5\" rx=\"45.72\" ry=\"18\"/>\n",
       "<text text-anchor=\"middle\" x=\"699.72\" y=\"-101.45\" font-family=\"Times,serif\" font-size=\"14.00\">500000:2</text>\n",
       "</g>\n",
       "<!-- 500005&#45;&gt;500000 -->\n",
       "<g id=\"edge13\" class=\"edge\">\n",
       "<title>500005&#45;&gt;500000</title>\n",
       "<path fill=\"none\" stroke=\"black\" d=\"M699.72,-176.91C699.72,-165.26 699.72,-149.55 699.72,-136.02\"/>\n",
       "<polygon fill=\"black\" stroke=\"black\" points=\"703.22,-136.36 699.72,-126.36 696.22,-136.36 703.22,-136.36\"/>\n",
       "<text text-anchor=\"middle\" x=\"703.1\" y=\"-145.7\" font-family=\"Times,serif\" font-size=\"14.00\">0</text>\n",
       "</g>\n",
       "<!-- 500001 -->\n",
       "<g id=\"node17\" class=\"node\">\n",
       "<title>500001</title>\n",
       "<ellipse fill=\"none\" stroke=\"black\" cx=\"808.72\" cy=\"-106.5\" rx=\"45.72\" ry=\"18\"/>\n",
       "<text text-anchor=\"middle\" x=\"808.72\" y=\"-101.45\" font-family=\"Times,serif\" font-size=\"14.00\">500001:2</text>\n",
       "</g>\n",
       "<!-- 500005&#45;&gt;500001 -->\n",
       "<g id=\"edge16\" class=\"edge\">\n",
       "<title>500005&#45;&gt;500001</title>\n",
       "<path fill=\"none\" stroke=\"black\" d=\"M719.46,-178.34C736.44,-164.86 761.14,-145.26 780.25,-130.09\"/>\n",
       "<polygon fill=\"black\" stroke=\"black\" points=\"782.29,-132.95 787.94,-123.99 777.93,-127.46 782.29,-132.95\"/>\n",
       "<text text-anchor=\"middle\" x=\"767.36\" y=\"-145.7\" font-family=\"Times,serif\" font-size=\"14.00\">1</text>\n",
       "</g>\n",
       "<!-- 50722 -->\n",
       "<g id=\"node15\" class=\"node\">\n",
       "<title>50722</title>\n",
       "<ellipse fill=\"none\" stroke=\"black\" cx=\"594.72\" cy=\"-18\" rx=\"41.12\" ry=\"18\"/>\n",
       "<text text-anchor=\"middle\" x=\"594.72\" y=\"-12.95\" font-family=\"Times,serif\" font-size=\"14.00\">50722:1</text>\n",
       "</g>\n",
       "<!-- 500000&#45;&gt;50722 -->\n",
       "<g id=\"edge14\" class=\"edge\">\n",
       "<title>500000&#45;&gt;50722</title>\n",
       "<path fill=\"none\" stroke=\"black\" d=\"M680.95,-90.04C664.6,-76.57 640.68,-56.86 622.18,-41.62\"/>\n",
       "<polygon fill=\"black\" stroke=\"black\" points=\"624.44,-38.95 614.5,-35.29 619.99,-44.35 624.44,-38.95\"/>\n",
       "<text text-anchor=\"middle\" x=\"660\" y=\"-57.2\" font-family=\"Times,serif\" font-size=\"14.00\">0</text>\n",
       "</g>\n",
       "<!-- 124055 -->\n",
       "<g id=\"node16\" class=\"node\">\n",
       "<title>124055</title>\n",
       "<ellipse fill=\"none\" stroke=\"black\" cx=\"699.72\" cy=\"-18\" rx=\"45.72\" ry=\"18\"/>\n",
       "<text text-anchor=\"middle\" x=\"699.72\" y=\"-12.95\" font-family=\"Times,serif\" font-size=\"14.00\">124055:1</text>\n",
       "</g>\n",
       "<!-- 500000&#45;&gt;124055 -->\n",
       "<g id=\"edge15\" class=\"edge\">\n",
       "<title>500000&#45;&gt;124055</title>\n",
       "<path fill=\"none\" stroke=\"black\" d=\"M699.72,-88.41C699.72,-76.76 699.72,-61.05 699.72,-47.52\"/>\n",
       "<polygon fill=\"black\" stroke=\"black\" points=\"703.22,-47.86 699.72,-37.86 696.22,-47.86 703.22,-47.86\"/>\n",
       "<text text-anchor=\"middle\" x=\"703.1\" y=\"-57.2\" font-family=\"Times,serif\" font-size=\"14.00\">1</text>\n",
       "</g>\n",
       "<!-- 132853 -->\n",
       "<g id=\"node18\" class=\"node\">\n",
       "<title>132853</title>\n",
       "<ellipse fill=\"none\" stroke=\"black\" cx=\"808.72\" cy=\"-18\" rx=\"45.72\" ry=\"18\"/>\n",
       "<text text-anchor=\"middle\" x=\"808.72\" y=\"-12.95\" font-family=\"Times,serif\" font-size=\"14.00\">132853:1</text>\n",
       "</g>\n",
       "<!-- 500001&#45;&gt;132853 -->\n",
       "<g id=\"edge17\" class=\"edge\">\n",
       "<title>500001&#45;&gt;132853</title>\n",
       "<path fill=\"none\" stroke=\"black\" d=\"M808.72,-88.41C808.72,-76.76 808.72,-61.05 808.72,-47.52\"/>\n",
       "<polygon fill=\"black\" stroke=\"black\" points=\"812.22,-47.86 808.72,-37.86 805.22,-47.86 812.22,-47.86\"/>\n",
       "<text text-anchor=\"middle\" x=\"812.1\" y=\"-57.2\" font-family=\"Times,serif\" font-size=\"14.00\">0</text>\n",
       "</g>\n",
       "<!-- 175322 -->\n",
       "<g id=\"node19\" class=\"node\">\n",
       "<title>175322</title>\n",
       "<ellipse fill=\"none\" stroke=\"black\" cx=\"917.72\" cy=\"-18\" rx=\"45.72\" ry=\"18\"/>\n",
       "<text text-anchor=\"middle\" x=\"917.72\" y=\"-12.95\" font-family=\"Times,serif\" font-size=\"14.00\">175322:1</text>\n",
       "</g>\n",
       "<!-- 500001&#45;&gt;175322 -->\n",
       "<g id=\"edge18\" class=\"edge\">\n",
       "<title>500001&#45;&gt;175322</title>\n",
       "<path fill=\"none\" stroke=\"black\" d=\"M828.46,-89.84C845.44,-76.36 870.14,-56.76 889.25,-41.59\"/>\n",
       "<polygon fill=\"black\" stroke=\"black\" points=\"891.29,-44.45 896.94,-35.49 886.93,-38.96 891.29,-44.45\"/>\n",
       "<text text-anchor=\"middle\" x=\"876.36\" y=\"-57.2\" font-family=\"Times,serif\" font-size=\"14.00\">1</text>\n",
       "</g>\n",
       "</g>\n",
       "</svg>\n"
      ],
      "text/plain": [
       "<graphviz.dot.Digraph at 0x28ca3ef90>"
      ]
     },
     "execution_count": 16,
     "metadata": {},
     "output_type": "execute_result"
    }
   ],
   "source": [
    "# For a test, visualize a small Huffman tree for category 0.\n",
    "total_nodes, tree0 = build_huffman_tree(begin_index, root_index=0, item_counts=dict_items[0])\n",
    "print(f'Total number of inner nodes (including root node) for category 0 : {total_nodes} ')\n",
    "visualize_huffman_tree(tree0[0]) # [root_index]"
   ]
  },
  {
   "cell_type": "markdown",
   "id": "cc41151f-f99e-473b-9cd5-b53b33a205f8",
   "metadata": {},
   "source": [
    "### 3.2 Category tree<a id='category_tree'></a>"
   ]
  },
  {
   "cell_type": "markdown",
   "id": "7186b367-0048-485d-9046-d86c867a4667",
   "metadata": {},
   "source": [
    "#### 3.2.1 Convert category DataFrame into hierarchical tree structure<a id='convert_df_to_tree'></a>"
   ]
  },
  {
   "cell_type": "code",
   "execution_count": 17,
   "id": "2348dd6a-e87b-4bf0-9632-10c12dc2b56c",
   "metadata": {},
   "outputs": [],
   "source": [
    "from CategoryTree import TreeNode, build_tree, add_to_node, get_path"
   ]
  },
  {
   "cell_type": "code",
   "execution_count": 18,
   "id": "ba389e2f-5bf8-4257-bad0-1303e8a984d0",
   "metadata": {},
   "outputs": [],
   "source": [
    "# root node\n",
    "tree_cat = TreeNode(10000) \n",
    "\n",
    "# build tree\n",
    "build_tree(0,{10000:tree_cat}, df_cat)\n"
   ]
  },
  {
   "cell_type": "code",
   "execution_count": 19,
   "id": "e04208f2-1855-47b8-b77e-18a40a1c9afb",
   "metadata": {},
   "outputs": [
    {
     "name": "stdout",
     "output_type": "stream",
     "text": [
      "dict_keys([1444, 1525, 1332, 207, 25, 1497, 788, 145, 798, 664])\n",
      "dict_keys([1444, 1525, 1332, 207, 25, 1497, 788, 145, 798, 664, 1111])\n",
      "[1525, 1490, 10000]\n"
     ]
    }
   ],
   "source": [
    "# tests\n",
    "\n",
    "if _debug_:\n",
    "    print(tree_cat.members[1490].members.keys())\n",
    "    print(tree_cat.members[1490].members[1525].parent.index)\n",
    "    \n",
    "_test_=True\n",
    "if _test_:\n",
    "    print(tree_cat.members[1490].members.keys())\n",
    "    add_to_node(tree_cat,1490,1111)\n",
    "    print(tree_cat.members[1490].members.keys())\n",
    "\n",
    "    path = []\n",
    "    p = get_path(tree_cat, 1525,path)\n",
    "    print(path)    "
   ]
  },
  {
   "cell_type": "markdown",
   "id": "bf038c11-b1c5-4689-9261-208fca9bfd5e",
   "metadata": {},
   "source": [
    "#### 3.2.2 Sanity check for linkage between items and categories<a id='sanity_check'></a>"
   ]
  },
  {
   "cell_type": "markdown",
   "id": "393e45b3-e9a3-4ffb-a52a-4d6f8dee18c4",
   "metadata": {},
   "source": [
    "See if all categories linked to items are terminal nodes in the category tree."
   ]
  },
  {
   "cell_type": "code",
   "execution_count": 20,
   "id": "0e952264-b43d-4622-8ce4-e6105be4698d",
   "metadata": {},
   "outputs": [],
   "source": [
    "### Lowest level categories from category tree\n",
    "\n",
    "positive_counts = (df_cat >= 0).sum(axis=1)\n",
    "term_levels = ['L'+ str(i-1) for i in positive_counts]\n",
    "\n",
    "terminals = [ df_cat.loc[i:i][level].tolist() for i, level in enumerate(term_levels) ]\n",
    "terminals = np.array(sorted(terminals))\n",
    "set_term = set(terminals.flatten())\n",
    "\n",
    "### Terminal-level categories from items\n",
    "set_items = set(dict_items.keys())"
   ]
  },
  {
   "cell_type": "code",
   "execution_count": 21,
   "id": "4791b30f-fd8b-4c8a-849a-be3b71df4036",
   "metadata": {},
   "outputs": [
    {
     "data": {
      "text/plain": [
       "[640,\n",
       " 131,\n",
       " 520,\n",
       " 1292,\n",
       " 781,\n",
       " 20,\n",
       " 799,\n",
       " 47,\n",
       " 48,\n",
       " 1079,\n",
       " 568,\n",
       " 959,\n",
       " 1215,\n",
       " 586,\n",
       " 1228,\n",
       " 1486,\n",
       " 209,\n",
       " 340,\n",
       " 1374,\n",
       " 479,\n",
       " 95,\n",
       " 1120,\n",
       " 229,\n",
       " 746,\n",
       " 747]"
      ]
     },
     "execution_count": 21,
     "metadata": {},
     "output_type": "execute_result"
    }
   ],
   "source": [
    "# non-terminal catetories associated with items\n",
    "\n",
    "non_terminal = list(set_items - set_term)\n",
    "non_terminal"
   ]
  },
  {
   "cell_type": "markdown",
   "id": "6f11fdde-b374-453c-acc5-d7851a6812d0",
   "metadata": {},
   "source": [
    "Upon inspection, some items are linked to non-terminal categories. \\\n",
    "We will attach all items to the appropriate nodes in the category tree. \n",
    "\n",
    "#df_cat[df_cat.L3.isin( [47,48,95,131,209,479,  229,340,520 ] )]"
   ]
  },
  {
   "cell_type": "markdown",
   "id": "70972ba2-1993-49f9-bada-4080c51b94df",
   "metadata": {},
   "source": [
    "#### 3.2.3 Add leaf nodes to tree<a id='add_leaf_nodes'></a>"
   ]
  },
  {
   "cell_type": "code",
   "execution_count": 22,
   "id": "53c3adac-25f9-4177-8110-11caee418bef",
   "metadata": {},
   "outputs": [],
   "source": [
    "\n",
    "for catid, itemid in dict_items.items():\n",
    "    for itemidx in itemid.keys():\n",
    "        add_to_node(tree_cat,catid,itemidx) \n"
   ]
  },
  {
   "cell_type": "markdown",
   "id": "c7d4e1e3-5bb1-43da-9e7f-adab4a875dc6",
   "metadata": {},
   "source": [
    "#### 3.2.4 Get full path to root<a id='get_full_path'></a>"
   ]
  },
  {
   "cell_type": "code",
   "execution_count": 23,
   "id": "4905a3e6-fc64-4080-b996-dc699017415c",
   "metadata": {},
   "outputs": [
    {
     "name": "stdout",
     "output_type": "stream",
     "text": [
      "item ID <------> root\n",
      "[132853, 0, 605, 1482, 10000]\n"
     ]
    }
   ],
   "source": [
    "# test with item iD 132853\n",
    "\n",
    "path = []\n",
    "get_path(tree_cat,132853, path)\n",
    "print('item ID <------> root')\n",
    "print(path)"
   ]
  },
  {
   "cell_type": "markdown",
   "id": "4ca0710d-38ba-4307-a6c0-9aad57dabc43",
   "metadata": {},
   "source": [
    "These will be utilized for training data. "
   ]
  }
 ],
 "metadata": {
  "kernelspec": {
   "display_name": "Python 3 (ipykernel)",
   "language": "python",
   "name": "python3"
  },
  "language_info": {
   "codemirror_mode": {
    "name": "ipython",
    "version": 3
   },
   "file_extension": ".py",
   "mimetype": "text/x-python",
   "name": "python",
   "nbconvert_exporter": "python",
   "pygments_lexer": "ipython3",
   "version": "3.11.4"
  }
 },
 "nbformat": 4,
 "nbformat_minor": 5
}
