{
 "cells": [
  {
   "cell_type": "markdown",
   "id": "f4b69d6f-ee08-4df8-bcff-8e4855c78420",
   "metadata": {},
   "source": [
    "# Objectives and Data wrangling"
   ]
  },
  {
   "cell_type": "markdown",
   "id": "8a7d946e-a72f-4165-b864-8286030ee0cc",
   "metadata": {},
   "source": [
    "## Table of Contents\n",
    "  * 1. [Objectives](#Objectives)\n",
    "  * 2. [Imports](#Imports)\n",
    "  * 3. [Load data](#Load_data)\n",
    "  * 4. [Explore data](#Explore_data)\n",
    "     * 4.1. [Event data including customer activities; 'view', 'add-to-cart' and 'transaction'](#Event_data)\n",
    "     * 4.2. [Item properties data for 'item ID - category ID matching'](#Item_properties_data)  \n",
    "     * 4.3. [Data containing hierarchical categories of items](#Category_data)\n",
    "  * 5. [Save data](#Save_data)"
   ]
  },
  {
   "cell_type": "markdown",
   "id": "1e179def-5559-48de-ae24-98624a5d500b",
   "metadata": {},
   "source": [
    "## 1. Objectives<a id='Objectives'></a>\n",
    "The NLP-based recommender systems studied in this work include an item-based collaborative filtering technique called **item2vec**, as well as a hybrid approach known as **higherarchical item2vec**, which incorporates hierarchical content-based information. The dataset used for evaluation is the [RetailRocket Recommender System Dataset]((https://www.kaggle.com/datasets/retailrocket/ecommerce-dataset)), obtained from Kaggle. The four files provided in the dataset will be used to test and evaluate our models.\n",
    "\n",
    "- events.csv\n",
    "- category_tree.csv\n",
    "- item_properties_part1.csv\n",
    "- item_properties_part2.csv\n",
    "\n",
    "The dataset must include the following information: **transaction ID**, **item ID**, and **category information for each item**, as well as transaction date and time, and customer ID. For the initial study, the context window will be limited to a single transaction for simplicity. In later stages, model performance will be evaluated using varying context windows and/or including non-transactional activities. This will involve generalizing individual _**transactions**_ into broader _**sessions**_; sessions group customer activities based on temporal proximity, typically within a single day or across a week. "
   ]
  },
  {
   "cell_type": "markdown",
   "id": "a8f8ae89-cea9-4a23-b31c-fc97caf38c77",
   "metadata": {},
   "source": [
    "## 2. Imports<a id='Imports'></a>"
   ]
  },
  {
   "cell_type": "code",
   "execution_count": 1,
   "id": "0c26295b-9704-4f4e-8c2f-dcb6c6f38e54",
   "metadata": {},
   "outputs": [],
   "source": [
    "import pandas as pd\n",
    "import numpy as np\n",
    "import seaborn as sns\n",
    "import matplotlib.pyplot as plt\n",
    "\n",
    "import datetime as dt\n",
    "from sb_utils import save_file\n",
    "pd.options.mode.copy_on_write = True"
   ]
  },
  {
   "cell_type": "markdown",
   "id": "11937fcd-8f6e-465b-b98c-a9612cc98f4b",
   "metadata": {},
   "source": [
    "## 3. Load data<a id='Load_data'></a>"
   ]
  },
  {
   "cell_type": "code",
   "execution_count": 2,
   "id": "c8f1f8c4-0de4-4b5a-8cd3-22f3cde66bcc",
   "metadata": {},
   "outputs": [],
   "source": [
    "event_data = 'events.csv'\n",
    "category_data = 'category_tree.csv'\n",
    "item1_data = 'item_properties_part1.csv'\n",
    "item2_data = 'item_properties_part2.csv'\n",
    "df_evt = pd.read_csv(event_data)\n",
    "df_cat = pd.read_csv(category_data)\n",
    "df_item = pd.read_csv(item1_data) \n",
    "df_item2 = pd.read_csv(item2_data)"
   ]
  },
  {
   "cell_type": "code",
   "execution_count": 3,
   "id": "7778cba4-79f6-4cdb-b266-a76bea8c627e",
   "metadata": {},
   "outputs": [
    {
     "data": {
      "text/html": [
       "<div>\n",
       "<style scoped>\n",
       "    .dataframe tbody tr th:only-of-type {\n",
       "        vertical-align: middle;\n",
       "    }\n",
       "\n",
       "    .dataframe tbody tr th {\n",
       "        vertical-align: top;\n",
       "    }\n",
       "\n",
       "    .dataframe thead th {\n",
       "        text-align: right;\n",
       "    }\n",
       "</style>\n",
       "<table border=\"1\" class=\"dataframe\">\n",
       "  <thead>\n",
       "    <tr style=\"text-align: right;\">\n",
       "      <th></th>\n",
       "      <th>timestamp</th>\n",
       "      <th>visitorid</th>\n",
       "      <th>event</th>\n",
       "      <th>itemid</th>\n",
       "      <th>transactionid</th>\n",
       "    </tr>\n",
       "  </thead>\n",
       "  <tbody>\n",
       "    <tr>\n",
       "      <th>0</th>\n",
       "      <td>1433221332117</td>\n",
       "      <td>257597</td>\n",
       "      <td>view</td>\n",
       "      <td>355908</td>\n",
       "      <td>NaN</td>\n",
       "    </tr>\n",
       "    <tr>\n",
       "      <th>1</th>\n",
       "      <td>1433224214164</td>\n",
       "      <td>992329</td>\n",
       "      <td>view</td>\n",
       "      <td>248676</td>\n",
       "      <td>NaN</td>\n",
       "    </tr>\n",
       "    <tr>\n",
       "      <th>2</th>\n",
       "      <td>1433221999827</td>\n",
       "      <td>111016</td>\n",
       "      <td>view</td>\n",
       "      <td>318965</td>\n",
       "      <td>NaN</td>\n",
       "    </tr>\n",
       "    <tr>\n",
       "      <th>3</th>\n",
       "      <td>1433221955914</td>\n",
       "      <td>483717</td>\n",
       "      <td>view</td>\n",
       "      <td>253185</td>\n",
       "      <td>NaN</td>\n",
       "    </tr>\n",
       "    <tr>\n",
       "      <th>4</th>\n",
       "      <td>1433221337106</td>\n",
       "      <td>951259</td>\n",
       "      <td>view</td>\n",
       "      <td>367447</td>\n",
       "      <td>NaN</td>\n",
       "    </tr>\n",
       "  </tbody>\n",
       "</table>\n",
       "</div>"
      ],
      "text/plain": [
       "       timestamp  visitorid event  itemid  transactionid\n",
       "0  1433221332117     257597  view  355908            NaN\n",
       "1  1433224214164     992329  view  248676            NaN\n",
       "2  1433221999827     111016  view  318965            NaN\n",
       "3  1433221955914     483717  view  253185            NaN\n",
       "4  1433221337106     951259  view  367447            NaN"
      ]
     },
     "execution_count": 3,
     "metadata": {},
     "output_type": "execute_result"
    }
   ],
   "source": [
    "df_evt.head()"
   ]
  },
  {
   "cell_type": "code",
   "execution_count": 4,
   "id": "cc42b417-f19f-4433-9221-1e4333eb086b",
   "metadata": {},
   "outputs": [
    {
     "data": {
      "text/html": [
       "<div>\n",
       "<style scoped>\n",
       "    .dataframe tbody tr th:only-of-type {\n",
       "        vertical-align: middle;\n",
       "    }\n",
       "\n",
       "    .dataframe tbody tr th {\n",
       "        vertical-align: top;\n",
       "    }\n",
       "\n",
       "    .dataframe thead th {\n",
       "        text-align: right;\n",
       "    }\n",
       "</style>\n",
       "<table border=\"1\" class=\"dataframe\">\n",
       "  <thead>\n",
       "    <tr style=\"text-align: right;\">\n",
       "      <th></th>\n",
       "      <th>categoryid</th>\n",
       "      <th>parentid</th>\n",
       "    </tr>\n",
       "  </thead>\n",
       "  <tbody>\n",
       "    <tr>\n",
       "      <th>0</th>\n",
       "      <td>1016</td>\n",
       "      <td>213.0</td>\n",
       "    </tr>\n",
       "    <tr>\n",
       "      <th>1</th>\n",
       "      <td>809</td>\n",
       "      <td>169.0</td>\n",
       "    </tr>\n",
       "    <tr>\n",
       "      <th>2</th>\n",
       "      <td>570</td>\n",
       "      <td>9.0</td>\n",
       "    </tr>\n",
       "    <tr>\n",
       "      <th>3</th>\n",
       "      <td>1691</td>\n",
       "      <td>885.0</td>\n",
       "    </tr>\n",
       "    <tr>\n",
       "      <th>4</th>\n",
       "      <td>536</td>\n",
       "      <td>1691.0</td>\n",
       "    </tr>\n",
       "  </tbody>\n",
       "</table>\n",
       "</div>"
      ],
      "text/plain": [
       "   categoryid  parentid\n",
       "0        1016     213.0\n",
       "1         809     169.0\n",
       "2         570       9.0\n",
       "3        1691     885.0\n",
       "4         536    1691.0"
      ]
     },
     "execution_count": 4,
     "metadata": {},
     "output_type": "execute_result"
    }
   ],
   "source": [
    "df_cat.head()"
   ]
  },
  {
   "cell_type": "code",
   "execution_count": 5,
   "id": "342f1816-5bd0-4d4f-9725-f268cb163963",
   "metadata": {},
   "outputs": [
    {
     "data": {
      "text/html": [
       "<div>\n",
       "<style scoped>\n",
       "    .dataframe tbody tr th:only-of-type {\n",
       "        vertical-align: middle;\n",
       "    }\n",
       "\n",
       "    .dataframe tbody tr th {\n",
       "        vertical-align: top;\n",
       "    }\n",
       "\n",
       "    .dataframe thead th {\n",
       "        text-align: right;\n",
       "    }\n",
       "</style>\n",
       "<table border=\"1\" class=\"dataframe\">\n",
       "  <thead>\n",
       "    <tr style=\"text-align: right;\">\n",
       "      <th></th>\n",
       "      <th>timestamp</th>\n",
       "      <th>itemid</th>\n",
       "      <th>property</th>\n",
       "      <th>value</th>\n",
       "    </tr>\n",
       "  </thead>\n",
       "  <tbody>\n",
       "    <tr>\n",
       "      <th>0</th>\n",
       "      <td>1435460400000</td>\n",
       "      <td>460429</td>\n",
       "      <td>categoryid</td>\n",
       "      <td>1338</td>\n",
       "    </tr>\n",
       "    <tr>\n",
       "      <th>1</th>\n",
       "      <td>1441508400000</td>\n",
       "      <td>206783</td>\n",
       "      <td>888</td>\n",
       "      <td>1116713 960601 n277.200</td>\n",
       "    </tr>\n",
       "    <tr>\n",
       "      <th>2</th>\n",
       "      <td>1439089200000</td>\n",
       "      <td>395014</td>\n",
       "      <td>400</td>\n",
       "      <td>n552.000 639502 n720.000 424566</td>\n",
       "    </tr>\n",
       "    <tr>\n",
       "      <th>3</th>\n",
       "      <td>1431226800000</td>\n",
       "      <td>59481</td>\n",
       "      <td>790</td>\n",
       "      <td>n15360.000</td>\n",
       "    </tr>\n",
       "    <tr>\n",
       "      <th>4</th>\n",
       "      <td>1431831600000</td>\n",
       "      <td>156781</td>\n",
       "      <td>917</td>\n",
       "      <td>828513</td>\n",
       "    </tr>\n",
       "  </tbody>\n",
       "</table>\n",
       "</div>"
      ],
      "text/plain": [
       "       timestamp  itemid    property                            value\n",
       "0  1435460400000  460429  categoryid                             1338\n",
       "1  1441508400000  206783         888          1116713 960601 n277.200\n",
       "2  1439089200000  395014         400  n552.000 639502 n720.000 424566\n",
       "3  1431226800000   59481         790                       n15360.000\n",
       "4  1431831600000  156781         917                           828513"
      ]
     },
     "execution_count": 5,
     "metadata": {},
     "output_type": "execute_result"
    }
   ],
   "source": [
    "df_item.head()"
   ]
  },
  {
   "cell_type": "markdown",
   "id": "c1f19219-53e3-421a-bafb-949d03a107e8",
   "metadata": {},
   "source": [
    "## 4. Explore data<a id='Explore_data'></a>"
   ]
  },
  {
   "cell_type": "markdown",
   "id": "71f960c5-0da0-495a-9a4f-e6348147d8e1",
   "metadata": {},
   "source": [
    "### 4.1  Event data including customer activities; view, add-to-cart and transaction<a id='Event_data'></a>"
   ]
  },
  {
   "cell_type": "code",
   "execution_count": 6,
   "id": "b255f9ab-8417-4045-bf1d-b4dc4e275c99",
   "metadata": {},
   "outputs": [],
   "source": [
    "df_evt = df_evt.drop_duplicates()"
   ]
  },
  {
   "cell_type": "code",
   "execution_count": 7,
   "id": "e8104c23-cd23-4351-a9c0-dc81df1ae5e9",
   "metadata": {},
   "outputs": [
    {
     "name": "stdout",
     "output_type": "stream",
     "text": [
      " [ Customer activities in raw numbers ]\n",
      "event\n",
      "view           2664218\n",
      "addtocart        68966\n",
      "transaction      22457\n",
      "Name: count, dtype: int64\n",
      "\n",
      " [ Customer activities expressed in percentages ]\n",
      "event\n",
      "view           96.68\n",
      "addtocart       2.50\n",
      "transaction     0.81\n",
      "Name: count, dtype: float64\n"
     ]
    }
   ],
   "source": [
    "print(' [ Customer activities in raw numbers ]')\n",
    "print(df_evt.event.value_counts())\n",
    "print('\\n [ Customer activities expressed in percentages ]')\n",
    "print(round(df_evt.event.value_counts()/len(df_evt.event) * 100,2))"
   ]
  },
  {
   "cell_type": "code",
   "execution_count": 8,
   "id": "b794fa5c-0a0f-44c7-a53a-124b5ee15b5c",
   "metadata": {},
   "outputs": [
    {
     "name": "stdout",
     "output_type": "stream",
     "text": [
      " [ An example sequence of activities by a customer ]\n"
     ]
    },
    {
     "data": {
      "text/html": [
       "<div>\n",
       "<style scoped>\n",
       "    .dataframe tbody tr th:only-of-type {\n",
       "        vertical-align: middle;\n",
       "    }\n",
       "\n",
       "    .dataframe tbody tr th {\n",
       "        vertical-align: top;\n",
       "    }\n",
       "\n",
       "    .dataframe thead th {\n",
       "        text-align: right;\n",
       "    }\n",
       "</style>\n",
       "<table border=\"1\" class=\"dataframe\">\n",
       "  <thead>\n",
       "    <tr style=\"text-align: right;\">\n",
       "      <th></th>\n",
       "      <th>timestamp</th>\n",
       "      <th>visitorid</th>\n",
       "      <th>event</th>\n",
       "      <th>itemid</th>\n",
       "      <th>transactionid</th>\n",
       "    </tr>\n",
       "  </thead>\n",
       "  <tbody>\n",
       "    <tr>\n",
       "      <th>265573</th>\n",
       "      <td>1434403666570</td>\n",
       "      <td>90352</td>\n",
       "      <td>view</td>\n",
       "      <td>425758</td>\n",
       "      <td>NaN</td>\n",
       "    </tr>\n",
       "    <tr>\n",
       "      <th>271793</th>\n",
       "      <td>1434404197081</td>\n",
       "      <td>90352</td>\n",
       "      <td>transaction</td>\n",
       "      <td>425758</td>\n",
       "      <td>0.0</td>\n",
       "    </tr>\n",
       "    <tr>\n",
       "      <th>277295</th>\n",
       "      <td>1434403991902</td>\n",
       "      <td>90352</td>\n",
       "      <td>addtocart</td>\n",
       "      <td>425758</td>\n",
       "      <td>NaN</td>\n",
       "    </tr>\n",
       "    <tr>\n",
       "      <th>533488</th>\n",
       "      <td>1435331816929</td>\n",
       "      <td>90352</td>\n",
       "      <td>view</td>\n",
       "      <td>425758</td>\n",
       "      <td>NaN</td>\n",
       "    </tr>\n",
       "  </tbody>\n",
       "</table>\n",
       "</div>"
      ],
      "text/plain": [
       "            timestamp  visitorid        event  itemid  transactionid\n",
       "265573  1434403666570      90352         view  425758            NaN\n",
       "271793  1434404197081      90352  transaction  425758            0.0\n",
       "277295  1434403991902      90352    addtocart  425758            NaN\n",
       "533488  1435331816929      90352         view  425758            NaN"
      ]
     },
     "execution_count": 8,
     "metadata": {},
     "output_type": "execute_result"
    }
   ],
   "source": [
    "print(' [ An example sequence of activities by a customer ]')\n",
    "df_evt.loc[df_evt.visitorid == 90352]"
   ]
  },
  {
   "cell_type": "code",
   "execution_count": 9,
   "id": "d25e08b8-dee1-4811-81d6-48d54280bc9e",
   "metadata": {},
   "outputs": [
    {
     "name": "stdout",
     "output_type": "stream",
     "text": [
      "There are 2750455 activity records by 1407580 customers for 235061 items in the data.\n"
     ]
    }
   ],
   "source": [
    "print(f'There are {df_evt.timestamp.nunique()} activity records by {df_evt.visitorid.nunique()} customers for {df_evt.itemid.nunique()} items in the data.')"
   ]
  },
  {
   "cell_type": "markdown",
   "id": "6af7c75e-924b-4819-b026-483690fe8a4d",
   "metadata": {},
   "source": [
    "#### Convert timestamp to Datetime object"
   ]
  },
  {
   "cell_type": "code",
   "execution_count": 10,
   "id": "73ee67fd-4e8d-4cd9-a300-734ad691cf4e",
   "metadata": {},
   "outputs": [
    {
     "name": "stdout",
     "output_type": "stream",
     "text": [
      " Data are from 2015-05-03 to 2015-09-18.\n"
     ]
    }
   ],
   "source": [
    "df_evt.timestamp =  pd.to_datetime(df_evt.timestamp, unit='ms')\n",
    "df_evt['date'] = pd.to_datetime(df_evt.timestamp, unit='ms').dt.date\n",
    "print(f' Data are from {df_evt.date.min()} to {df_evt.date.max()}.')"
   ]
  },
  {
   "cell_type": "markdown",
   "id": "07c97d74-a9b1-45bd-bf85-3c5c155a44bd",
   "metadata": {},
   "source": [
    "#### Add a 'session' column\n",
    "A session includes all activities performed by a customer on the same day."
   ]
  },
  {
   "cell_type": "code",
   "execution_count": 11,
   "id": "09e7db3d-96c4-4a10-a583-731a808c9f01",
   "metadata": {},
   "outputs": [],
   "source": [
    "# Create a helper DataFrame with unique (visitorid, date) and assign session numbers\n",
    "unique_dates = df_evt[['visitorid', 'date']].drop_duplicates()\n",
    "unique_dates['session_by_day'] = unique_dates.groupby('visitorid').cumcount() + 1 # start from session 1\n",
    "\n",
    "# Merge back to the original dataframe\n",
    "df_evt = df_evt.merge(unique_dates, on=['visitorid', 'date'], how='left')\n",
    "df_evt = df_evt.loc[:, ~df_evt.columns.str.endswith('_x')]\n",
    "df_evt = df_evt.loc[:, ~df_evt.columns.str.endswith('_y')]"
   ]
  },
  {
   "cell_type": "code",
   "execution_count": 12,
   "id": "5effcacf-e466-481a-826f-46fa3a4f3666",
   "metadata": {},
   "outputs": [
    {
     "data": {
      "image/png": "[encoded data removed]",
      "text/plain": [
       "<Figure size 600x300 with 1 Axes>"
      ]
     },
     "metadata": {},
     "output_type": "display_data"
    }
   ],
   "source": [
    "# plot distribution \n",
    "plt.subplots(figsize=(6,3))\n",
    "num_sessions= df_evt.groupby('visitorid').agg(num_session=pd.NamedAgg(column='session_by_day', aggfunc='max'))\n",
    "num_sessions=pd.DataFrame(num_sessions)\n",
    "#num_sessions\n",
    "bins = np.linspace(0.5, 100.5, 100)\n",
    "sns.histplot(x='num_session',data=num_sessions, bins=bins)\n",
    "plt.xlabel('Number of sessions per customer')\n",
    "plt.yscale('log')"
   ]
  },
  {
   "cell_type": "markdown",
   "id": "7578ea56-3e08-4029-9577-6ccbddd171b3",
   "metadata": {},
   "source": [
    "#### Impute missing values"
   ]
  },
  {
   "cell_type": "code",
   "execution_count": 13,
   "id": "89861fc0-c628-48b0-9714-eb4196c57ade",
   "metadata": {},
   "outputs": [
    {
     "data": {
      "text/plain": [
       "timestamp               0\n",
       "visitorid               0\n",
       "event                   0\n",
       "itemid                  0\n",
       "transactionid     2733184\n",
       "date                    0\n",
       "session_by_day          0\n",
       "dtype: int64"
      ]
     },
     "execution_count": 13,
     "metadata": {},
     "output_type": "execute_result"
    }
   ],
   "source": [
    "df_evt.isnull().sum()"
   ]
  },
  {
   "cell_type": "code",
   "execution_count": 14,
   "id": "23c4b4b9-2899-4b4b-a212-799dbebadf0a",
   "metadata": {},
   "outputs": [
    {
     "name": "stdout",
     "output_type": "stream",
     "text": [
      "<class 'pandas.core.frame.DataFrame'>\n",
      "RangeIndex: 2755641 entries, 0 to 2755640\n",
      "Data columns (total 7 columns):\n",
      " #   Column          Dtype         \n",
      "---  ------          -----         \n",
      " 0   timestamp       datetime64[ns]\n",
      " 1   visitorid       int64         \n",
      " 2   event           object        \n",
      " 3   itemid          int64         \n",
      " 4   transactionid   float64       \n",
      " 5   date            object        \n",
      " 6   session_by_day  int64         \n",
      "dtypes: datetime64[ns](1), float64(1), int64(3), object(2)\n",
      "memory usage: 147.2+ MB\n"
     ]
    }
   ],
   "source": [
    "df_evt.info()"
   ]
  },
  {
   "cell_type": "code",
   "execution_count": 15,
   "id": "92457499-b447-4279-8fc5-032e294aa5bd",
   "metadata": {},
   "outputs": [
    {
     "data": {
      "text/plain": [
       "event\n",
       "addtocart          0\n",
       "transaction    22457\n",
       "view               0\n",
       "Name: transactionid, dtype: int64"
      ]
     },
     "execution_count": 15,
     "metadata": {},
     "output_type": "execute_result"
    }
   ],
   "source": [
    "df_evt.groupby('event')['transactionid'].apply(lambda x: x.count())"
   ]
  },
  {
   "cell_type": "code",
   "execution_count": 16,
   "id": "50c9e5e2-ddfe-43e7-ab42-8b5a1d0fe2e8",
   "metadata": {},
   "outputs": [
    {
     "data": {
      "text/plain": [
       "timestamp         datetime64[ns]\n",
       "visitorid                  int64\n",
       "event                     object\n",
       "itemid                     int64\n",
       "transactionid              int64\n",
       "date                      object\n",
       "session_by_day             int64\n",
       "dtype: object"
      ]
     },
     "execution_count": 16,
     "metadata": {},
     "output_type": "execute_result"
    }
   ],
   "source": [
    "df_evt.transactionid= df_evt.transactionid.fillna(-1).astype('int64')\n",
    "df_evt.dtypes"
   ]
  },
  {
   "cell_type": "code",
   "execution_count": 17,
   "id": "b9002579-e885-4b75-bb58-d29faa303508",
   "metadata": {},
   "outputs": [
    {
     "data": {
      "image/png": "[encoded data removed]",
      "text/plain": [
       "<Figure size 900x300 with 2 Axes>"
      ]
     },
     "metadata": {},
     "output_type": "display_data"
    }
   ],
   "source": [
    "# Plot histograms for transaction ID (for 'transaction' events only), and customer ID.\n",
    "fig,ax = plt.subplots(1,2, figsize=[9,3])\n",
    "sns.histplot(x='transactionid',data=df_evt[df_evt.event=='transaction'],ax=ax[0])\n",
    "sns.histplot(x='visitorid',data=df_evt,ax=ax[1])\n",
    "plt.tight_layout()\n",
    "plt.show()"
   ]
  },
  {
   "cell_type": "code",
   "execution_count": 18,
   "id": "b6eab2c3-9751-4832-8f64-c8236fde375c",
   "metadata": {},
   "outputs": [
    {
     "data": {
      "text/html": [
       "<div>\n",
       "<style scoped>\n",
       "    .dataframe tbody tr th:only-of-type {\n",
       "        vertical-align: middle;\n",
       "    }\n",
       "\n",
       "    .dataframe tbody tr th {\n",
       "        vertical-align: top;\n",
       "    }\n",
       "\n",
       "    .dataframe thead th {\n",
       "        text-align: right;\n",
       "    }\n",
       "</style>\n",
       "<table border=\"1\" class=\"dataframe\">\n",
       "  <thead>\n",
       "    <tr style=\"text-align: right;\">\n",
       "      <th></th>\n",
       "      <th>timestamp</th>\n",
       "      <th>visitorid</th>\n",
       "      <th>event</th>\n",
       "      <th>itemid</th>\n",
       "      <th>transactionid</th>\n",
       "      <th>date</th>\n",
       "      <th>session_by_day</th>\n",
       "    </tr>\n",
       "  </thead>\n",
       "  <tbody>\n",
       "    <tr>\n",
       "      <th>1361452</th>\n",
       "      <td>2015-09-11 20:49:49.439</td>\n",
       "      <td>0</td>\n",
       "      <td>view</td>\n",
       "      <td>285930</td>\n",
       "      <td>-1</td>\n",
       "      <td>2015-09-11</td>\n",
       "      <td>1</td>\n",
       "    </tr>\n",
       "    <tr>\n",
       "      <th>1366977</th>\n",
       "      <td>2015-09-11 20:52:39.591</td>\n",
       "      <td>0</td>\n",
       "      <td>view</td>\n",
       "      <td>357564</td>\n",
       "      <td>-1</td>\n",
       "      <td>2015-09-11</td>\n",
       "      <td>1</td>\n",
       "    </tr>\n",
       "    <tr>\n",
       "      <th>1367107</th>\n",
       "      <td>2015-09-11 20:55:17.175</td>\n",
       "      <td>0</td>\n",
       "      <td>view</td>\n",
       "      <td>67045</td>\n",
       "      <td>-1</td>\n",
       "      <td>2015-09-11</td>\n",
       "      <td>1</td>\n",
       "    </tr>\n",
       "    <tr>\n",
       "      <th>830254</th>\n",
       "      <td>2015-08-13 17:46:06.444</td>\n",
       "      <td>1</td>\n",
       "      <td>view</td>\n",
       "      <td>72028</td>\n",
       "      <td>-1</td>\n",
       "      <td>2015-08-13</td>\n",
       "      <td>1</td>\n",
       "    </tr>\n",
       "    <tr>\n",
       "      <th>726186</th>\n",
       "      <td>2015-08-07 18:01:08.920</td>\n",
       "      <td>2</td>\n",
       "      <td>view</td>\n",
       "      <td>216305</td>\n",
       "      <td>-1</td>\n",
       "      <td>2015-08-07</td>\n",
       "      <td>1</td>\n",
       "    </tr>\n",
       "  </tbody>\n",
       "</table>\n",
       "</div>"
      ],
      "text/plain": [
       "                      timestamp  visitorid event  itemid  transactionid  \\\n",
       "1361452 2015-09-11 20:49:49.439          0  view  285930             -1   \n",
       "1366977 2015-09-11 20:52:39.591          0  view  357564             -1   \n",
       "1367107 2015-09-11 20:55:17.175          0  view   67045             -1   \n",
       "830254  2015-08-13 17:46:06.444          1  view   72028             -1   \n",
       "726186  2015-08-07 18:01:08.920          2  view  216305             -1   \n",
       "\n",
       "               date  session_by_day  \n",
       "1361452  2015-09-11               1  \n",
       "1366977  2015-09-11               1  \n",
       "1367107  2015-09-11               1  \n",
       "830254   2015-08-13               1  \n",
       "726186   2015-08-07               1  "
      ]
     },
     "execution_count": 18,
     "metadata": {},
     "output_type": "execute_result"
    }
   ],
   "source": [
    "df_evt.sort_values('visitorid', inplace=True)\n",
    "df_evt.head()"
   ]
  },
  {
   "cell_type": "code",
   "execution_count": 19,
   "id": "e864d88e-e6fa-4195-b19b-b56490370a86",
   "metadata": {},
   "outputs": [
    {
     "name": "stdout",
     "output_type": "stream",
     "text": [
      "There are 17672 transactions by 11719 customers for 12025 items in the data.\n"
     ]
    }
   ],
   "source": [
    "print(f\"There are {df_evt.loc[df_evt.event == 'transaction'].transactionid.nunique()} transactions by {df_evt.loc[df_evt.event == 'transaction'].visitorid.nunique()} customers for {df_evt.loc[df_evt.event == 'transaction'].itemid.nunique()} items in the data.\")"
   ]
  },
  {
   "cell_type": "markdown",
   "id": "5bd46c17-5334-4f9e-b24c-32267c583fa4",
   "metadata": {},
   "source": [
    "\n",
    "\n",
    "### 4.2. Item properties data<a id='Item_properties_data'></a>"
   ]
  },
  {
   "cell_type": "markdown",
   "id": "7c824d30-676e-477d-b560-a8102a0795ac",
   "metadata": {},
   "source": [
    "#### Concatenate two item properties files"
   ]
  },
  {
   "cell_type": "code",
   "execution_count": 20,
   "id": "d3a70c1b-cdcd-49bb-945d-a34265a049ca",
   "metadata": {},
   "outputs": [
    {
     "name": "stdout",
     "output_type": "stream",
     "text": [
      "<class 'pandas.core.frame.DataFrame'>\n",
      "Index: 20275902 entries, 0 to 9275902\n",
      "Data columns (total 4 columns):\n",
      " #   Column     Dtype \n",
      "---  ------     ----- \n",
      " 0   timestamp  int64 \n",
      " 1   itemid     int64 \n",
      " 2   property   object\n",
      " 3   value      object\n",
      "dtypes: int64(2), object(2)\n",
      "memory usage: 773.5+ MB\n"
     ]
    }
   ],
   "source": [
    "df_item = pd.concat([df_item, df_item2], axis=0)\n",
    "df_item.info()"
   ]
  },
  {
   "cell_type": "code",
   "execution_count": 21,
   "id": "95364a28-2dc4-4a40-a3a4-f970e66b8412",
   "metadata": {},
   "outputs": [
    {
     "name": "stdout",
     "output_type": "stream",
     "text": [
      " Data are from 2015-05-10 to 2015-09-13.\n"
     ]
    }
   ],
   "source": [
    "df_item.timestamp =  pd.to_datetime(df_item.timestamp, unit='ms')\n",
    "df_item['date'] = pd.to_datetime(df_item.timestamp, unit='ms').dt.date\n",
    "print(f' Data are from {df_item.date.min()} to {df_item.date.max()}.')"
   ]
  },
  {
   "cell_type": "code",
   "execution_count": 22,
   "id": "ce23cc76-c782-43f5-b96d-b38964f108b8",
   "metadata": {},
   "outputs": [
    {
     "name": "stdout",
     "output_type": "stream",
     "text": [
      "There are 417053 unique items with an associated category ID, and a total of 1242 unique category IDs in the item properties data.\n"
     ]
    }
   ],
   "source": [
    "nitems = df_item.loc[(df_item.property == \"categoryid\")].itemid.nunique()\n",
    "ncat = df_item.loc[(df_item.property == \"categoryid\")].value.nunique()\n",
    "print(f'There are {nitems} unique items with an associated category ID, and a total of {ncat} unique category IDs in the item properties data.')"
   ]
  },
  {
   "cell_type": "markdown",
   "id": "fcbd3623-d113-4146-b0a5-16dbe3572afa",
   "metadata": {},
   "source": [
    "#### Add 'category ID' to event data"
   ]
  },
  {
   "cell_type": "code",
   "execution_count": 23,
   "id": "bf2bf4db-d449-43a1-81e8-cdf13bf40761",
   "metadata": {},
   "outputs": [],
   "source": [
    "# Extract rows containing category ID\n",
    "item_cat = df_item.loc[df_item.property == \"categoryid\",['itemid','value','date']]\n",
    "item_cat = item_cat.drop_duplicates(subset=['itemid','value'], keep='first')\n",
    "item_cat.rename(columns={'value': 'categoryid'}, inplace=True)"
   ]
  },
  {
   "cell_type": "code",
   "execution_count": 24,
   "id": "65e2de95-1e88-4080-b296-9dcead0619c6",
   "metadata": {},
   "outputs": [
    {
     "name": "stdout",
     "output_type": "stream",
     "text": [
      "Approximately 5.6% of items are linked to more than one category ID.\n"
     ]
    }
   ],
   "source": [
    "# Check if each item has unique category ID\n",
    "numcat= item_cat.groupby(['itemid']).agg({'categoryid':'count'})\n",
    "numcat.reset_index(inplace=True)\n",
    "print(f'Approximately {100*numcat[numcat.categoryid>1].itemid.count()/numcat.itemid.count():.1f}% of items are linked to more than one category ID.')"
   ]
  },
  {
   "cell_type": "code",
   "execution_count": 25,
   "id": "f4c4fb7d-f610-45d0-8671-39cb78f50fc1",
   "metadata": {},
   "outputs": [
    {
     "data": {
      "text/plain": [
       "Text(0.5, 0, 'number of category IDs per item')"
      ]
     },
     "execution_count": 25,
     "metadata": {},
     "output_type": "execute_result"
    },
    {
     "data": {
      "image/png": "[encoded data removed]",
      "text/plain": [
       "<Figure size 300x300 with 1 Axes>"
      ]
     },
     "metadata": {},
     "output_type": "display_data"
    }
   ],
   "source": [
    "# Plot the number of category IDs per item\n",
    "plt.figure(figsize=(3,3))\n",
    "sns.histplot(x='categoryid',data=numcat)\n",
    "plt.xlabel('number of category IDs per item')"
   ]
  },
  {
   "cell_type": "code",
   "execution_count": 26,
   "id": "1c21444d-168b-4b86-b52d-2eaf5d5bff7c",
   "metadata": {},
   "outputs": [
    {
     "data": {
      "text/html": [
       "<div>\n",
       "<style scoped>\n",
       "    .dataframe tbody tr th:only-of-type {\n",
       "        vertical-align: middle;\n",
       "    }\n",
       "\n",
       "    .dataframe tbody tr th {\n",
       "        vertical-align: top;\n",
       "    }\n",
       "\n",
       "    .dataframe thead th {\n",
       "        text-align: right;\n",
       "    }\n",
       "</style>\n",
       "<table border=\"1\" class=\"dataframe\">\n",
       "  <thead>\n",
       "    <tr style=\"text-align: right;\">\n",
       "      <th></th>\n",
       "      <th>itemid</th>\n",
       "      <th>categoryid</th>\n",
       "    </tr>\n",
       "  </thead>\n",
       "  <tbody>\n",
       "    <tr>\n",
       "      <th>24</th>\n",
       "      <td>25</td>\n",
       "      <td>2</td>\n",
       "    </tr>\n",
       "    <tr>\n",
       "      <th>88</th>\n",
       "      <td>94</td>\n",
       "      <td>2</td>\n",
       "    </tr>\n",
       "    <tr>\n",
       "      <th>121</th>\n",
       "      <td>130</td>\n",
       "      <td>2</td>\n",
       "    </tr>\n",
       "    <tr>\n",
       "      <th>139</th>\n",
       "      <td>149</td>\n",
       "      <td>2</td>\n",
       "    </tr>\n",
       "    <tr>\n",
       "      <th>158</th>\n",
       "      <td>168</td>\n",
       "      <td>2</td>\n",
       "    </tr>\n",
       "  </tbody>\n",
       "</table>\n",
       "</div>"
      ],
      "text/plain": [
       "     itemid  categoryid\n",
       "24       25           2\n",
       "88       94           2\n",
       "121     130           2\n",
       "139     149           2\n",
       "158     168           2"
      ]
     },
     "execution_count": 26,
     "metadata": {},
     "output_type": "execute_result"
    }
   ],
   "source": [
    "numcat[numcat.categoryid>1].head()"
   ]
  },
  {
   "cell_type": "code",
   "execution_count": 27,
   "id": "3964ddfc-1a9f-4bb0-9101-28b898d925d8",
   "metadata": {},
   "outputs": [
    {
     "data": {
      "text/html": [
       "<div>\n",
       "<style scoped>\n",
       "    .dataframe tbody tr th:only-of-type {\n",
       "        vertical-align: middle;\n",
       "    }\n",
       "\n",
       "    .dataframe tbody tr th {\n",
       "        vertical-align: top;\n",
       "    }\n",
       "\n",
       "    .dataframe thead th {\n",
       "        text-align: right;\n",
       "    }\n",
       "</style>\n",
       "<table border=\"1\" class=\"dataframe\">\n",
       "  <thead>\n",
       "    <tr style=\"text-align: right;\">\n",
       "      <th></th>\n",
       "      <th>itemid</th>\n",
       "      <th>categoryid</th>\n",
       "      <th>date</th>\n",
       "    </tr>\n",
       "  </thead>\n",
       "  <tbody>\n",
       "    <tr>\n",
       "      <th>7786530</th>\n",
       "      <td>25</td>\n",
       "      <td>1509</td>\n",
       "      <td>2015-05-10</td>\n",
       "    </tr>\n",
       "    <tr>\n",
       "      <th>10171938</th>\n",
       "      <td>25</td>\n",
       "      <td>72</td>\n",
       "      <td>2015-09-13</td>\n",
       "    </tr>\n",
       "  </tbody>\n",
       "</table>\n",
       "</div>"
      ],
      "text/plain": [
       "          itemid categoryid        date\n",
       "7786530       25       1509  2015-05-10\n",
       "10171938      25         72  2015-09-13"
      ]
     },
     "execution_count": 27,
     "metadata": {},
     "output_type": "execute_result"
    }
   ],
   "source": [
    "# Let's take a look into item 25\n",
    "item_cat[item_cat.itemid==25]"
   ]
  },
  {
   "cell_type": "code",
   "execution_count": 28,
   "id": "953d0276-8ae3-42da-962d-f33617ee8be6",
   "metadata": {},
   "outputs": [
    {
     "data": {
      "text/html": [
       "<div>\n",
       "<style scoped>\n",
       "    .dataframe tbody tr th:only-of-type {\n",
       "        vertical-align: middle;\n",
       "    }\n",
       "\n",
       "    .dataframe tbody tr th {\n",
       "        vertical-align: top;\n",
       "    }\n",
       "\n",
       "    .dataframe thead th {\n",
       "        text-align: right;\n",
       "    }\n",
       "</style>\n",
       "<table border=\"1\" class=\"dataframe\">\n",
       "  <thead>\n",
       "    <tr style=\"text-align: right;\">\n",
       "      <th></th>\n",
       "      <th>timestamp</th>\n",
       "      <th>itemid</th>\n",
       "      <th>property</th>\n",
       "      <th>value</th>\n",
       "      <th>date</th>\n",
       "    </tr>\n",
       "  </thead>\n",
       "  <tbody>\n",
       "    <tr>\n",
       "      <th>7786530</th>\n",
       "      <td>2015-05-10 03:00:00</td>\n",
       "      <td>25</td>\n",
       "      <td>categoryid</td>\n",
       "      <td>1509</td>\n",
       "      <td>2015-05-10</td>\n",
       "    </tr>\n",
       "    <tr>\n",
       "      <th>8382882</th>\n",
       "      <td>2015-05-17 03:00:00</td>\n",
       "      <td>25</td>\n",
       "      <td>categoryid</td>\n",
       "      <td>1509</td>\n",
       "      <td>2015-05-17</td>\n",
       "    </tr>\n",
       "    <tr>\n",
       "      <th>8581666</th>\n",
       "      <td>2015-05-24 03:00:00</td>\n",
       "      <td>25</td>\n",
       "      <td>categoryid</td>\n",
       "      <td>1509</td>\n",
       "      <td>2015-05-24</td>\n",
       "    </tr>\n",
       "    <tr>\n",
       "      <th>8979234</th>\n",
       "      <td>2015-05-31 03:00:00</td>\n",
       "      <td>25</td>\n",
       "      <td>categoryid</td>\n",
       "      <td>1509</td>\n",
       "      <td>2015-05-31</td>\n",
       "    </tr>\n",
       "    <tr>\n",
       "      <th>7985314</th>\n",
       "      <td>2015-06-07 03:00:00</td>\n",
       "      <td>25</td>\n",
       "      <td>categoryid</td>\n",
       "      <td>1509</td>\n",
       "      <td>2015-06-07</td>\n",
       "    </tr>\n",
       "    <tr>\n",
       "      <th>8184098</th>\n",
       "      <td>2015-06-14 03:00:00</td>\n",
       "      <td>25</td>\n",
       "      <td>categoryid</td>\n",
       "      <td>1509</td>\n",
       "      <td>2015-06-14</td>\n",
       "    </tr>\n",
       "    <tr>\n",
       "      <th>8780450</th>\n",
       "      <td>2015-06-28 03:00:00</td>\n",
       "      <td>25</td>\n",
       "      <td>categoryid</td>\n",
       "      <td>1509</td>\n",
       "      <td>2015-06-28</td>\n",
       "    </tr>\n",
       "    <tr>\n",
       "      <th>9575586</th>\n",
       "      <td>2015-07-05 03:00:00</td>\n",
       "      <td>25</td>\n",
       "      <td>categoryid</td>\n",
       "      <td>1509</td>\n",
       "      <td>2015-07-05</td>\n",
       "    </tr>\n",
       "    <tr>\n",
       "      <th>9376802</th>\n",
       "      <td>2015-07-12 03:00:00</td>\n",
       "      <td>25</td>\n",
       "      <td>categoryid</td>\n",
       "      <td>1509</td>\n",
       "      <td>2015-07-12</td>\n",
       "    </tr>\n",
       "    <tr>\n",
       "      <th>9178018</th>\n",
       "      <td>2015-07-19 03:00:00</td>\n",
       "      <td>25</td>\n",
       "      <td>categoryid</td>\n",
       "      <td>1509</td>\n",
       "      <td>2015-07-19</td>\n",
       "    </tr>\n",
       "    <tr>\n",
       "      <th>9774370</th>\n",
       "      <td>2015-07-26 03:00:00</td>\n",
       "      <td>25</td>\n",
       "      <td>categoryid</td>\n",
       "      <td>1509</td>\n",
       "      <td>2015-07-26</td>\n",
       "    </tr>\n",
       "    <tr>\n",
       "      <th>10768290</th>\n",
       "      <td>2015-08-02 03:00:00</td>\n",
       "      <td>25</td>\n",
       "      <td>categoryid</td>\n",
       "      <td>1509</td>\n",
       "      <td>2015-08-02</td>\n",
       "    </tr>\n",
       "    <tr>\n",
       "      <th>9973154</th>\n",
       "      <td>2015-08-09 03:00:00</td>\n",
       "      <td>25</td>\n",
       "      <td>categoryid</td>\n",
       "      <td>1509</td>\n",
       "      <td>2015-08-09</td>\n",
       "    </tr>\n",
       "    <tr>\n",
       "      <th>10370722</th>\n",
       "      <td>2015-08-16 03:00:00</td>\n",
       "      <td>25</td>\n",
       "      <td>categoryid</td>\n",
       "      <td>72</td>\n",
       "      <td>2015-08-16</td>\n",
       "    </tr>\n",
       "    <tr>\n",
       "      <th>10967074</th>\n",
       "      <td>2015-08-23 03:00:00</td>\n",
       "      <td>25</td>\n",
       "      <td>categoryid</td>\n",
       "      <td>72</td>\n",
       "      <td>2015-08-23</td>\n",
       "    </tr>\n",
       "    <tr>\n",
       "      <th>10569506</th>\n",
       "      <td>2015-08-30 03:00:00</td>\n",
       "      <td>25</td>\n",
       "      <td>categoryid</td>\n",
       "      <td>72</td>\n",
       "      <td>2015-08-30</td>\n",
       "    </tr>\n",
       "    <tr>\n",
       "      <th>165858</th>\n",
       "      <td>2015-09-06 03:00:00</td>\n",
       "      <td>25</td>\n",
       "      <td>categoryid</td>\n",
       "      <td>72</td>\n",
       "      <td>2015-09-06</td>\n",
       "    </tr>\n",
       "    <tr>\n",
       "      <th>10171938</th>\n",
       "      <td>2015-09-13 03:00:00</td>\n",
       "      <td>25</td>\n",
       "      <td>categoryid</td>\n",
       "      <td>72</td>\n",
       "      <td>2015-09-13</td>\n",
       "    </tr>\n",
       "  </tbody>\n",
       "</table>\n",
       "</div>"
      ],
      "text/plain": [
       "                   timestamp  itemid    property value        date\n",
       "7786530  2015-05-10 03:00:00      25  categoryid  1509  2015-05-10\n",
       "8382882  2015-05-17 03:00:00      25  categoryid  1509  2015-05-17\n",
       "8581666  2015-05-24 03:00:00      25  categoryid  1509  2015-05-24\n",
       "8979234  2015-05-31 03:00:00      25  categoryid  1509  2015-05-31\n",
       "7985314  2015-06-07 03:00:00      25  categoryid  1509  2015-06-07\n",
       "8184098  2015-06-14 03:00:00      25  categoryid  1509  2015-06-14\n",
       "8780450  2015-06-28 03:00:00      25  categoryid  1509  2015-06-28\n",
       "9575586  2015-07-05 03:00:00      25  categoryid  1509  2015-07-05\n",
       "9376802  2015-07-12 03:00:00      25  categoryid  1509  2015-07-12\n",
       "9178018  2015-07-19 03:00:00      25  categoryid  1509  2015-07-19\n",
       "9774370  2015-07-26 03:00:00      25  categoryid  1509  2015-07-26\n",
       "10768290 2015-08-02 03:00:00      25  categoryid  1509  2015-08-02\n",
       "9973154  2015-08-09 03:00:00      25  categoryid  1509  2015-08-09\n",
       "10370722 2015-08-16 03:00:00      25  categoryid    72  2015-08-16\n",
       "10967074 2015-08-23 03:00:00      25  categoryid    72  2015-08-23\n",
       "10569506 2015-08-30 03:00:00      25  categoryid    72  2015-08-30\n",
       "165858   2015-09-06 03:00:00      25  categoryid    72  2015-09-06\n",
       "10171938 2015-09-13 03:00:00      25  categoryid    72  2015-09-13"
      ]
     },
     "execution_count": 28,
     "metadata": {},
     "output_type": "execute_result"
    }
   ],
   "source": [
    "df_item[(df_item.itemid==25) & (df_item.property=='categoryid')].sort_values('timestamp')"
   ]
  },
  {
   "cell_type": "markdown",
   "id": "29e05c5b-3c9d-4c9f-826a-23fd50641446",
   "metadata": {},
   "source": [
    "It appears that the assignment of category IDs to items changes occasionally. We can either assign the first observed category ID to these items or exclude them entirely, as they account for only 5.6% of the total."
   ]
  },
  {
   "cell_type": "code",
   "execution_count": 29,
   "id": "594a9423-2e1b-476c-ab94-943f5e38bbc4",
   "metadata": {},
   "outputs": [
    {
     "data": {
      "text/plain": [
       "categoryid    0\n",
       "dtype: int64"
      ]
     },
     "execution_count": 29,
     "metadata": {},
     "output_type": "execute_result"
    }
   ],
   "source": [
    "item_cat.sort_values(by='date',inplace=True)\n",
    "item_cat = item_cat.drop_duplicates(subset='itemid', keep='first')\n",
    "\n",
    "# Check again all items have a unique category ID\n",
    "numcat= item_cat.groupby(['itemid']).agg({'categoryid':'count'})\n",
    "numcat[numcat.categoryid>1].sum()"
   ]
  },
  {
   "cell_type": "code",
   "execution_count": 30,
   "id": "c9f70f96-1740-43a4-a11f-e60a72582499",
   "metadata": {},
   "outputs": [],
   "source": [
    "# Incorporate category ID to event data\n",
    "df_evt = df_evt.merge(item_cat, on=['itemid'], how='left')"
   ]
  },
  {
   "cell_type": "code",
   "execution_count": 31,
   "id": "f368e679-6fc9-40b1-afa3-79e5001967d3",
   "metadata": {},
   "outputs": [
    {
     "name": "stdout",
     "output_type": "stream",
     "text": [
      "Only 49815/235061 * 100 = 21.19 % of unique items found in the event data have no associated category ID.\n"
     ]
    }
   ],
   "source": [
    "nocat = df_evt[df_evt.categoryid.isnull()].itemid.nunique()\n",
    "totitems = df_evt.itemid.nunique()\n",
    "print(f'Only {nocat}/{totitems} * 100 = {100*nocat/totitems:.2f} % of unique items found in the event data have no associated category ID.')"
   ]
  },
  {
   "cell_type": "code",
   "execution_count": 32,
   "id": "f26ce759-aa5e-41e3-be75-bb397c2bc51f",
   "metadata": {},
   "outputs": [
    {
     "name": "stdout",
     "output_type": "stream",
     "text": [
      "Only 380/12025 * 100 = 3.16 % of unique items found in transactions have no associated category ID.\n"
     ]
    }
   ],
   "source": [
    "nocat_trs = df_evt.loc[df_evt.categoryid.isnull() & (df_evt.event=='transaction')].itemid.nunique()\n",
    "totitems_trs = totitems = df_evt[df_evt.event=='transaction'].itemid.nunique()\n",
    "print(f'Only {nocat_trs}/{totitems_trs} * 100 = {100*nocat_trs/totitems_trs:.2f} % of unique items found in transactions have no associated category ID.')"
   ]
  },
  {
   "cell_type": "markdown",
   "id": "90f7409e-f10b-465e-94c8-203fe0105030",
   "metadata": {},
   "source": [
    "#### Impute missing values"
   ]
  },
  {
   "cell_type": "code",
   "execution_count": 33,
   "id": "9aba0db5-1dfc-4307-81fa-1830d8166cf9",
   "metadata": {},
   "outputs": [
    {
     "data": {
      "text/plain": [
       "timestamp              0\n",
       "visitorid              0\n",
       "event                  0\n",
       "itemid                 0\n",
       "transactionid          0\n",
       "date_x                 0\n",
       "session_by_day         0\n",
       "categoryid             0\n",
       "date_y            255576\n",
       "dtype: int64"
      ]
     },
     "execution_count": 33,
     "metadata": {},
     "output_type": "execute_result"
    }
   ],
   "source": [
    "df_evt.categoryid= df_evt.categoryid.fillna(-1).astype('int64')\n",
    "df_evt.isnull().sum()"
   ]
  },
  {
   "cell_type": "markdown",
   "id": "fc7c05e5-16e0-41dd-88ea-6d09742333c8",
   "metadata": {},
   "source": [
    "### 4.3. Data containing hierarchical categories of items<a id='Category_data'></a>"
   ]
  },
  {
   "cell_type": "code",
   "execution_count": 34,
   "id": "55cde3ff-5585-4597-8d53-7048b251368a",
   "metadata": {},
   "outputs": [
    {
     "name": "stdout",
     "output_type": "stream",
     "text": [
      "<class 'pandas.core.frame.DataFrame'>\n",
      "RangeIndex: 1669 entries, 0 to 1668\n",
      "Data columns (total 2 columns):\n",
      " #   Column      Non-Null Count  Dtype  \n",
      "---  ------      --------------  -----  \n",
      " 0   categoryid  1669 non-null   int64  \n",
      " 1   parentid    1644 non-null   float64\n",
      "dtypes: float64(1), int64(1)\n",
      "memory usage: 26.2 KB\n"
     ]
    }
   ],
   "source": [
    "df_cat = df_cat.drop_duplicates()\n",
    "df_cat.info()"
   ]
  },
  {
   "cell_type": "code",
   "execution_count": 35,
   "id": "63587c85-88f7-4069-84fa-347100c8bcd7",
   "metadata": {},
   "outputs": [
    {
     "name": "stdout",
     "output_type": "stream",
     "text": [
      "1669\n"
     ]
    }
   ],
   "source": [
    "print(df_cat.categoryid.nunique())"
   ]
  },
  {
   "cell_type": "markdown",
   "id": "3cd607e3-cb5f-429b-a5de-f9f064d09438",
   "metadata": {},
   "source": [
    "All category IDs are unique."
   ]
  },
  {
   "cell_type": "markdown",
   "id": "117260a5-d71a-4c7e-8e18-c17d2dfa835c",
   "metadata": {},
   "source": [
    "#### Assign appropriate parent ID to root node"
   ]
  },
  {
   "cell_type": "code",
   "execution_count": 36,
   "id": "271bd095-af5c-43dd-9a37-d2f0a5267e11",
   "metadata": {},
   "outputs": [
    {
     "data": {
      "text/html": [
       "<div>\n",
       "<style scoped>\n",
       "    .dataframe tbody tr th:only-of-type {\n",
       "        vertical-align: middle;\n",
       "    }\n",
       "\n",
       "    .dataframe tbody tr th {\n",
       "        vertical-align: top;\n",
       "    }\n",
       "\n",
       "    .dataframe thead th {\n",
       "        text-align: right;\n",
       "    }\n",
       "</style>\n",
       "<table border=\"1\" class=\"dataframe\">\n",
       "  <thead>\n",
       "    <tr style=\"text-align: right;\">\n",
       "      <th></th>\n",
       "      <th>categoryid</th>\n",
       "      <th>parentid</th>\n",
       "    </tr>\n",
       "  </thead>\n",
       "  <tbody>\n",
       "  </tbody>\n",
       "</table>\n",
       "</div>"
      ],
      "text/plain": [
       "Empty DataFrame\n",
       "Columns: [categoryid, parentid]\n",
       "Index: []"
      ]
     },
     "execution_count": 36,
     "metadata": {},
     "output_type": "execute_result"
    }
   ],
   "source": [
    "df_cat[df_cat.parentid == 0]"
   ]
  },
  {
   "cell_type": "markdown",
   "id": "87855986-4fa3-494e-983d-02cd3218e130",
   "metadata": {},
   "source": [
    "Value 0 is available to assign to root node."
   ]
  },
  {
   "cell_type": "code",
   "execution_count": 37,
   "id": "02355707-ee15-4dfd-a029-fd0a4c249ea3",
   "metadata": {},
   "outputs": [
    {
     "data": {
      "text/plain": [
       "categoryid    0\n",
       "parentid      0\n",
       "dtype: int64"
      ]
     },
     "execution_count": 37,
     "metadata": {},
     "output_type": "execute_result"
    }
   ],
   "source": [
    "df_cat.parentid = df_cat.parentid.fillna(0).astype('int64')\n",
    "df_cat.isna().sum()"
   ]
  },
  {
   "cell_type": "markdown",
   "id": "5cdc2944-5c18-4d98-af3b-58f69ab50a6b",
   "metadata": {},
   "source": [
    "#### Build multi-layer tree structure"
   ]
  },
  {
   "cell_type": "code",
   "execution_count": 38,
   "id": "6aec7ecd-9fe4-43bd-b9c5-58b5a9e6545c",
   "metadata": {},
   "outputs": [
    {
     "name": "stdout",
     "output_type": "stream",
     "text": [
      "parentid    False\n",
      "L0          False\n",
      "dtype: bool\n"
     ]
    },
    {
     "data": {
      "text/html": [
       "<div>\n",
       "<style scoped>\n",
       "    .dataframe tbody tr th:only-of-type {\n",
       "        vertical-align: middle;\n",
       "    }\n",
       "\n",
       "    .dataframe tbody tr th {\n",
       "        vertical-align: top;\n",
       "    }\n",
       "\n",
       "    .dataframe thead th {\n",
       "        text-align: right;\n",
       "    }\n",
       "</style>\n",
       "<table border=\"1\" class=\"dataframe\">\n",
       "  <thead>\n",
       "    <tr style=\"text-align: right;\">\n",
       "      <th></th>\n",
       "      <th>parentid</th>\n",
       "      <th>L0</th>\n",
       "    </tr>\n",
       "  </thead>\n",
       "  <tbody>\n",
       "    <tr>\n",
       "      <th>5</th>\n",
       "      <td>231</td>\n",
       "      <td>0</td>\n",
       "    </tr>\n",
       "    <tr>\n",
       "      <th>589</th>\n",
       "      <td>791</td>\n",
       "      <td>0</td>\n",
       "    </tr>\n",
       "    <tr>\n",
       "      <th>861</th>\n",
       "      <td>1490</td>\n",
       "      <td>0</td>\n",
       "    </tr>\n",
       "    <tr>\n",
       "      <th>939</th>\n",
       "      <td>431</td>\n",
       "      <td>0</td>\n",
       "    </tr>\n",
       "    <tr>\n",
       "      <th>1111</th>\n",
       "      <td>755</td>\n",
       "      <td>0</td>\n",
       "    </tr>\n",
       "  </tbody>\n",
       "</table>\n",
       "</div>"
      ],
      "text/plain": [
       "      parentid  L0\n",
       "5          231   0\n",
       "589        791   0\n",
       "861       1490   0\n",
       "939        431   0\n",
       "1111       755   0"
      ]
     },
     "execution_count": 38,
     "metadata": {},
     "output_type": "execute_result"
    }
   ],
   "source": [
    "df_l1 = df_cat[df_cat.parentid==0]\n",
    "df_l1.rename(columns={'categoryid':'parentid','parentid':'L0'}, inplace=True)\n",
    "print(df_l1.isna().any())\n",
    "df_l1.head()"
   ]
  },
  {
   "cell_type": "code",
   "execution_count": 39,
   "id": "0b40cce9-f274-49f7-bf1f-cb63d29c171e",
   "metadata": {},
   "outputs": [],
   "source": [
    "df = df_l1\n",
    "level = 1\n",
    "\n",
    "while level < 8 :\n",
    "    lname = 'L'+str(level)\n",
    "    df_new = df.merge(df_cat, on=['parentid'], how='left')\n",
    "    df_new.rename(columns={'categoryid':'parentid','parentid':lname},inplace=True)\n",
    "    df_new = df_new.fillna(-1).astype('int64')\n",
    "    df = df_new.copy()\n",
    "    level = level+1"
   ]
  },
  {
   "cell_type": "code",
   "execution_count": 40,
   "id": "17ecfb7a-bd3a-46ad-86b2-d7660ef40933",
   "metadata": {},
   "outputs": [
    {
     "data": {
      "text/html": [
       "<div>\n",
       "<style scoped>\n",
       "    .dataframe tbody tr th:only-of-type {\n",
       "        vertical-align: middle;\n",
       "    }\n",
       "\n",
       "    .dataframe tbody tr th {\n",
       "        vertical-align: top;\n",
       "    }\n",
       "\n",
       "    .dataframe thead th {\n",
       "        text-align: right;\n",
       "    }\n",
       "</style>\n",
       "<table border=\"1\" class=\"dataframe\">\n",
       "  <thead>\n",
       "    <tr style=\"text-align: right;\">\n",
       "      <th></th>\n",
       "      <th>L1</th>\n",
       "      <th>L0</th>\n",
       "      <th>L2</th>\n",
       "      <th>L3</th>\n",
       "      <th>L4</th>\n",
       "      <th>L5</th>\n",
       "      <th>L6</th>\n",
       "      <th>L7</th>\n",
       "    </tr>\n",
       "  </thead>\n",
       "  <tbody>\n",
       "    <tr>\n",
       "      <th>0</th>\n",
       "      <td>231</td>\n",
       "      <td>0</td>\n",
       "      <td>-1</td>\n",
       "      <td>-1</td>\n",
       "      <td>-1</td>\n",
       "      <td>-1</td>\n",
       "      <td>-1</td>\n",
       "      <td>-1</td>\n",
       "    </tr>\n",
       "    <tr>\n",
       "      <th>1</th>\n",
       "      <td>791</td>\n",
       "      <td>0</td>\n",
       "      <td>587</td>\n",
       "      <td>769</td>\n",
       "      <td>-1</td>\n",
       "      <td>-1</td>\n",
       "      <td>-1</td>\n",
       "      <td>-1</td>\n",
       "    </tr>\n",
       "    <tr>\n",
       "      <th>2</th>\n",
       "      <td>791</td>\n",
       "      <td>0</td>\n",
       "      <td>587</td>\n",
       "      <td>1680</td>\n",
       "      <td>-1</td>\n",
       "      <td>-1</td>\n",
       "      <td>-1</td>\n",
       "      <td>-1</td>\n",
       "    </tr>\n",
       "    <tr>\n",
       "      <th>3</th>\n",
       "      <td>791</td>\n",
       "      <td>0</td>\n",
       "      <td>587</td>\n",
       "      <td>1255</td>\n",
       "      <td>-1</td>\n",
       "      <td>-1</td>\n",
       "      <td>-1</td>\n",
       "      <td>-1</td>\n",
       "    </tr>\n",
       "    <tr>\n",
       "      <th>4</th>\n",
       "      <td>791</td>\n",
       "      <td>0</td>\n",
       "      <td>587</td>\n",
       "      <td>1362</td>\n",
       "      <td>-1</td>\n",
       "      <td>-1</td>\n",
       "      <td>-1</td>\n",
       "      <td>-1</td>\n",
       "    </tr>\n",
       "    <tr>\n",
       "      <th>...</th>\n",
       "      <td>...</td>\n",
       "      <td>...</td>\n",
       "      <td>...</td>\n",
       "      <td>...</td>\n",
       "      <td>...</td>\n",
       "      <td>...</td>\n",
       "      <td>...</td>\n",
       "      <td>...</td>\n",
       "    </tr>\n",
       "    <tr>\n",
       "      <th>2773</th>\n",
       "      <td>679</td>\n",
       "      <td>0</td>\n",
       "      <td>313</td>\n",
       "      <td>560</td>\n",
       "      <td>-1</td>\n",
       "      <td>-1</td>\n",
       "      <td>-1</td>\n",
       "      <td>-1</td>\n",
       "    </tr>\n",
       "    <tr>\n",
       "      <th>2774</th>\n",
       "      <td>679</td>\n",
       "      <td>0</td>\n",
       "      <td>313</td>\n",
       "      <td>559</td>\n",
       "      <td>-1</td>\n",
       "      <td>-1</td>\n",
       "      <td>-1</td>\n",
       "      <td>-1</td>\n",
       "    </tr>\n",
       "    <tr>\n",
       "      <th>2775</th>\n",
       "      <td>679</td>\n",
       "      <td>0</td>\n",
       "      <td>1544</td>\n",
       "      <td>-1</td>\n",
       "      <td>-1</td>\n",
       "      <td>-1</td>\n",
       "      <td>-1</td>\n",
       "      <td>-1</td>\n",
       "    </tr>\n",
       "    <tr>\n",
       "      <th>2776</th>\n",
       "      <td>679</td>\n",
       "      <td>0</td>\n",
       "      <td>491</td>\n",
       "      <td>-1</td>\n",
       "      <td>-1</td>\n",
       "      <td>-1</td>\n",
       "      <td>-1</td>\n",
       "      <td>-1</td>\n",
       "    </tr>\n",
       "    <tr>\n",
       "      <th>2777</th>\n",
       "      <td>679</td>\n",
       "      <td>0</td>\n",
       "      <td>869</td>\n",
       "      <td>-1</td>\n",
       "      <td>-1</td>\n",
       "      <td>-1</td>\n",
       "      <td>-1</td>\n",
       "      <td>-1</td>\n",
       "    </tr>\n",
       "  </tbody>\n",
       "</table>\n",
       "<p>2778 rows × 8 columns</p>\n",
       "</div>"
      ],
      "text/plain": [
       "       L1  L0    L2    L3  L4  L5  L6  L7\n",
       "0     231   0    -1    -1  -1  -1  -1  -1\n",
       "1     791   0   587   769  -1  -1  -1  -1\n",
       "2     791   0   587  1680  -1  -1  -1  -1\n",
       "3     791   0   587  1255  -1  -1  -1  -1\n",
       "4     791   0   587  1362  -1  -1  -1  -1\n",
       "...   ...  ..   ...   ...  ..  ..  ..  ..\n",
       "2773  679   0   313   560  -1  -1  -1  -1\n",
       "2774  679   0   313   559  -1  -1  -1  -1\n",
       "2775  679   0  1544    -1  -1  -1  -1  -1\n",
       "2776  679   0   491    -1  -1  -1  -1  -1\n",
       "2777  679   0   869    -1  -1  -1  -1  -1\n",
       "\n",
       "[2778 rows x 8 columns]"
      ]
     },
     "execution_count": 40,
     "metadata": {},
     "output_type": "execute_result"
    }
   ],
   "source": [
    "df.pop('parentid')\n",
    "df"
   ]
  },
  {
   "cell_type": "code",
   "execution_count": 41,
   "id": "595e8542-c7fb-4e69-9e34-e56e35f45f54",
   "metadata": {},
   "outputs": [
    {
     "data": {
      "text/plain": [
       "1669"
      ]
     },
     "execution_count": 41,
     "metadata": {},
     "output_type": "execute_result"
    }
   ],
   "source": [
    "# Make a set of unique category IDs in the original category tree.\n",
    "seta=set(df_cat.categoryid.unique())\n",
    "setb=set(df_cat.parentid.unique())\n",
    "setall = seta.union(setb)\n",
    "len(setall)"
   ]
  },
  {
   "cell_type": "code",
   "execution_count": 42,
   "id": "8d496bd9-d61c-4559-a5b5-3acc0cea93be",
   "metadata": {},
   "outputs": [
    {
     "name": "stdout",
     "output_type": "stream",
     "text": [
      "The number of items at each level is:\n",
      "L1: 25\n",
      "L2: 175\n",
      "L3: 703\n",
      "L4: 691\n",
      "L5: 265\n",
      "L6: 716\n",
      "The total number of categories is 1669, consistent with the original category data.\n"
     ]
    }
   ],
   "source": [
    "# Now check the consistency of the new dataframe against the original data. \n",
    "set1 = set(df.L1.unique())\n",
    "set2 = set(df.L2.unique())\n",
    "set3 = set(df.L3.unique())\n",
    "set4 = set(df.L4.unique())\n",
    "set5 = set(df.L5.unique())\n",
    "set6 = set(df.L6.unique())\n",
    "setcat = set1.union(set2,set3,set4,set5,set6) - {-1}\n",
    "print(f'The number of items at each level is:')\n",
    "print(f'L1: {len(set1)}')\n",
    "print(f'L2: {len(set2)}')\n",
    "print(f'L3: {len(set3)}')\n",
    "print(f'L4: {len(set4)}')\n",
    "print(f'L5: {len(set5)}')\n",
    "print(f'L6: {len(set6)}')\n",
    "print(f'The total number of categories is {len(setcat)}, consistent with the original category data.')"
   ]
  },
  {
   "cell_type": "markdown",
   "id": "b79939ad-4c27-489f-969d-d0bad88566d6",
   "metadata": {},
   "source": [
    "## 5. Save data<a id='Save_data'></a>"
   ]
  },
  {
   "cell_type": "code",
   "execution_count": 43,
   "id": "50d909d2-9dcb-4b39-a6a7-7fe6fec0b00e",
   "metadata": {},
   "outputs": [
    {
     "name": "stdout",
     "output_type": "stream",
     "text": [
      "A file already exists with this name.\n",
      "\n"
     ]
    },
    {
     "name": "stdin",
     "output_type": "stream",
     "text": [
      "Do you want to overwrite? (Y/N) Y\n"
     ]
    },
    {
     "name": "stdout",
     "output_type": "stream",
     "text": [
      "Writing file.  \"./category_df.csv\"\n"
     ]
    }
   ],
   "source": [
    "# Store the DataFrame representing the hierarchical category structure, including level information. \n",
    "# This will be used for constructing the Huffman Tree.\n",
    "save_file(df,'category_df.csv','.')"
   ]
  },
  {
   "cell_type": "code",
   "execution_count": 44,
   "id": "56ded9ae-0f0e-4a88-9821-e690baeb6b61",
   "metadata": {},
   "outputs": [
    {
     "name": "stdout",
     "output_type": "stream",
     "text": [
      "<class 'pandas.core.frame.DataFrame'>\n",
      "RangeIndex: 2755641 entries, 0 to 2755640\n",
      "Data columns (total 8 columns):\n",
      " #   Column          Dtype \n",
      "---  ------          ----- \n",
      " 0   visitorid       int64 \n",
      " 1   event           object\n",
      " 2   itemid          int64 \n",
      " 3   transactionid   int64 \n",
      " 4   date_x          object\n",
      " 5   session_by_day  int64 \n",
      " 6   categoryid      int64 \n",
      " 7   date_y          object\n",
      "dtypes: int64(5), object(3)\n",
      "memory usage: 168.2+ MB\n"
     ]
    }
   ],
   "source": [
    "df_evt.pop('timestamp')\n",
    "df_evt.info()"
   ]
  },
  {
   "cell_type": "code",
   "execution_count": 45,
   "id": "8ce7fd76-47e6-4cb8-a8cd-b997e88adf02",
   "metadata": {},
   "outputs": [
    {
     "name": "stdout",
     "output_type": "stream",
     "text": [
      "A file already exists with this name.\n",
      "\n"
     ]
    },
    {
     "name": "stdin",
     "output_type": "stream",
     "text": [
      "Do you want to overwrite? (Y/N) Y\n"
     ]
    },
    {
     "name": "stdout",
     "output_type": "stream",
     "text": [
      "Writing file.  \"./events_df.csv\"\n"
     ]
    }
   ],
   "source": [
    "save_file(df_evt,'events_df.csv','.')"
   ]
  }
 ],
 "metadata": {
  "kernelspec": {
   "display_name": "Python 3 (ipykernel)",
   "language": "python",
   "name": "python3"
  },
  "language_info": {
   "codemirror_mode": {
    "name": "ipython",
    "version": 3
   },
   "file_extension": ".py",
   "mimetype": "text/x-python",
   "name": "python",
   "nbconvert_exporter": "python",
   "pygments_lexer": "ipython3",
   "version": "3.11.4"
  }
 },
 "nbformat": 4,
 "nbformat_minor": 5
}
